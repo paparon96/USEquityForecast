{
 "cells": [
  {
   "cell_type": "markdown",
   "metadata": {},
   "source": [
    "# Import packages"
   ]
  },
  {
   "cell_type": "code",
   "execution_count": 1,
   "metadata": {},
   "outputs": [],
   "source": [
    "import pandas as pd\n",
    "import numpy as np"
   ]
  },
  {
   "cell_type": "markdown",
   "metadata": {},
   "source": [
    "# Custom functions"
   ]
  },
  {
   "cell_type": "code",
   "execution_count": 2,
   "metadata": {},
   "outputs": [],
   "source": [
    "def month_mapper(month):\n",
    "    \n",
    "    months = ['Jan','Feb','Mar','Apr','May','Jun','Jul','Aug','Sep','Oct','Nov','Dec']\n",
    "    \n",
    "    # Get index\n",
    "    ind = months.index(month)+1\n",
    "    if ind < 10:\n",
    "        return '0'+str(ind)\n",
    "    else:\n",
    "        return str(ind)"
   ]
  },
  {
   "cell_type": "markdown",
   "metadata": {},
   "source": [
    "# Data import and preprocessing"
   ]
  },
  {
   "cell_type": "code",
   "execution_count": 3,
   "metadata": {},
   "outputs": [
    {
     "name": "stdout",
     "output_type": "stream",
     "text": [
      "         Date         Open         High          Low        Close  \\\n",
      "0  2011-01-01  1257.619995  1302.670044  1257.619995  1286.119995   \n",
      "1  2011-02-01  1289.140015  1344.069946  1289.140015  1327.219971   \n",
      "2  2011-03-01  1328.640015  1332.280029  1249.050049  1325.829956   \n",
      "3  2011-04-01  1329.479980  1364.560059  1294.699951  1363.609985   \n",
      "4  2011-05-01  1365.209961  1370.579956  1311.800049  1345.199951   \n",
      "\n",
      "     Adj Close       Volume  \n",
      "0  1286.119995  92164940000  \n",
      "1  1327.219971  59223660000  \n",
      "2  1325.829956  89507640000  \n",
      "3  1363.609985  77364810000  \n",
      "4  1345.199951  81708980000  \n"
     ]
    }
   ],
   "source": [
    "snp500 = pd.read_csv('../Data/GSPC_monthly_10year.csv')\n",
    "\n",
    "print(snp500.head())"
   ]
  },
  {
   "cell_type": "code",
   "execution_count": 4,
   "metadata": {},
   "outputs": [
    {
     "name": "stdout",
     "output_type": "stream",
     "text": [
      "      Date  snp500_Open  snp500_High   snp500_Low  snp500_Close  \\\n",
      "0  2011-01  1257.619995  1302.670044  1257.619995   1286.119995   \n",
      "1  2011-02  1289.140015  1344.069946  1289.140015   1327.219971   \n",
      "2  2011-03  1328.640015  1332.280029  1249.050049   1325.829956   \n",
      "3  2011-04  1329.479980  1364.560059  1294.699951   1363.609985   \n",
      "4  2011-05  1365.209961  1370.579956  1311.800049   1345.199951   \n",
      "\n",
      "   snp500_Adj Close  snp500_Volume  \n",
      "0       1286.119995    92164940000  \n",
      "1       1327.219971    59223660000  \n",
      "2       1325.829956    89507640000  \n",
      "3       1363.609985    77364810000  \n",
      "4       1345.199951    81708980000  \n"
     ]
    }
   ],
   "source": [
    "# Always rename columns, format date, then merge\n",
    "\n",
    "# Rename S&P 500 columns\n",
    "temp = ['snp500_'+i for i in snp500.columns]\n",
    "temp[0] = 'Date'\n",
    "\n",
    "\n",
    "snp500.columns = temp\n",
    "\n",
    "# Format date column\n",
    "snp500.Date = [i[:7] for i in snp500.Date]\n",
    "\n",
    "\n",
    "print(snp500.head())"
   ]
  },
  {
   "cell_type": "code",
   "execution_count": 5,
   "metadata": {},
   "outputs": [
    {
     "name": "stdout",
     "output_type": "stream",
     "text": [
      "          Date   CAPE\n",
      "0  Dec 3, 2020  33.60\n",
      "1  Nov 1, 2020  31.33\n",
      "2  Oct 1, 2020  31.28\n",
      "3  Sep 1, 2020  30.84\n",
      "4  Aug 1, 2020  31.16\n"
     ]
    }
   ],
   "source": [
    "cape = pd.read_csv('../Data/CAPE_monthly.csv',index_col=0)\n",
    "\n",
    "print(cape.head())"
   ]
  },
  {
   "cell_type": "code",
   "execution_count": 6,
   "metadata": {},
   "outputs": [
    {
     "name": "stdout",
     "output_type": "stream",
     "text": [
      "      Date   CAPE\n",
      "0  2020-12  33.60\n",
      "1  2020-11  31.33\n",
      "2  2020-10  31.28\n",
      "3  2020-09  30.84\n",
      "4  2020-08  31.16\n"
     ]
    }
   ],
   "source": [
    "cape.Date = [i[-4:]+'-'+month_mapper(i[:3]) for i in cape.Date]\n",
    "print(cape.head())"
   ]
  },
  {
   "cell_type": "code",
   "execution_count": 7,
   "metadata": {},
   "outputs": [
    {
     "name": "stdout",
     "output_type": "stream",
     "text": [
      "     Date  Price   Open   High    Low Change %\n",
      "0  Dec 20  0.933  0.847  0.964  0.839   10.75%\n",
      "1  Nov 20  0.842  0.855  0.975  0.718   -3.61%\n",
      "2  Oct 20  0.874  0.689  0.877  0.653   27.42%\n",
      "3  Sep 20  0.686  0.713  0.731  0.604   -2.93%\n",
      "4  Aug 20  0.706  0.535  0.789  0.504   32.51%\n"
     ]
    }
   ],
   "source": [
    "TB10 = pd.read_csv('../Data/TB10Y_monthly.csv')\n",
    "\n",
    "print(TB10.head())"
   ]
  },
  {
   "cell_type": "code",
   "execution_count": 8,
   "metadata": {},
   "outputs": [
    {
     "name": "stdout",
     "output_type": "stream",
     "text": [
      "      Date   TB10\n",
      "0  2020-12  0.933\n",
      "1  2020-11  0.842\n",
      "2  2020-10  0.874\n",
      "3  2020-09  0.686\n",
      "4  2020-08  0.706\n"
     ]
    }
   ],
   "source": [
    "TB10.Date = ['20'+i[-2:]+'-'+month_mapper(i[:3]) for i in TB10.Date]\n",
    "\n",
    "TB10 = TB10[['Date','Price']]\n",
    "TB10.columns = ['Date','TB10']\n",
    "\n",
    "print(TB10.head())"
   ]
  },
  {
   "cell_type": "code",
   "execution_count": 9,
   "metadata": {},
   "outputs": [
    {
     "name": "stdout",
     "output_type": "stream",
     "text": [
      "         DATE  CPALTT01USM657N\n",
      "0  2010-09-01         0.058174\n",
      "1  2010-10-01         0.124520\n",
      "2  2010-11-01         0.042065\n",
      "3  2010-12-01         0.171844\n",
      "4  2011-01-01         0.476323\n"
     ]
    }
   ],
   "source": [
    "CPI_growth_rate = pd.read_csv('../Data/CPI_growth_rate_monthly.csv')\n",
    "\n",
    "print(CPI_growth_rate.head())"
   ]
  },
  {
   "cell_type": "code",
   "execution_count": 10,
   "metadata": {},
   "outputs": [
    {
     "name": "stdout",
     "output_type": "stream",
     "text": [
      "      Date  CPI_growth_rate\n",
      "0  2010-09         0.058174\n",
      "1  2010-10         0.124520\n",
      "2  2010-11         0.042065\n",
      "3  2010-12         0.171844\n",
      "4  2011-01         0.476323\n"
     ]
    }
   ],
   "source": [
    "# Format date column\n",
    "CPI_growth_rate.DATE = [i[:7] for i in CPI_growth_rate.DATE]\n",
    "\n",
    "CPI_growth_rate.columns = ['Date','CPI_growth_rate']\n",
    "\n",
    "print(CPI_growth_rate.head())"
   ]
  },
  {
   "cell_type": "code",
   "execution_count": 11,
   "metadata": {},
   "outputs": [
    {
     "name": "stdout",
     "output_type": "stream",
     "text": [
      "         DATE  TB3MS\n",
      "0  2010-11-01   0.14\n",
      "1  2010-12-01   0.14\n",
      "2  2011-01-01   0.15\n",
      "3  2011-02-01   0.13\n",
      "4  2011-03-01   0.10\n"
     ]
    }
   ],
   "source": [
    "TB3MS = pd.read_csv('../Data/TB3MS.csv')\n",
    "\n",
    "print(TB3MS.head())"
   ]
  },
  {
   "cell_type": "code",
   "execution_count": 12,
   "metadata": {},
   "outputs": [
    {
     "name": "stdout",
     "output_type": "stream",
     "text": [
      "      Date  TB3MS\n",
      "0  2010-11   0.14\n",
      "1  2010-12   0.14\n",
      "2  2011-01   0.15\n",
      "3  2011-02   0.13\n",
      "4  2011-03   0.10\n"
     ]
    }
   ],
   "source": [
    "TB3MS.DATE = [i[:7] for i in TB3MS.DATE]\n",
    "\n",
    "\n",
    "TB3MS.columns = ['Date','TB3MS']\n",
    "\n",
    "print(TB3MS.head())"
   ]
  },
  {
   "cell_type": "code",
   "execution_count": 13,
   "metadata": {},
   "outputs": [
    {
     "name": "stdout",
     "output_type": "stream",
     "text": [
      "         DATE BAA10Y\n",
      "0  2010-12-01   3.01\n",
      "1  2010-12-02   2.99\n",
      "2  2010-12-03   3.02\n",
      "3  2010-12-06   3.02\n",
      "4  2010-12-07   2.99\n"
     ]
    }
   ],
   "source": [
    "DFR = pd.read_csv('../Data/DFR.csv')\n",
    "\n",
    "print(DFR.head())"
   ]
  },
  {
   "cell_type": "code",
   "execution_count": 14,
   "metadata": {},
   "outputs": [
    {
     "name": "stdout",
     "output_type": "stream",
     "text": [
      "       Date   DFR\n",
      "0   2010-12  3.01\n",
      "23  2011-01  2.68\n",
      "44  2011-02  2.66\n",
      "64  2011-03  2.59\n",
      "87  2011-04  2.58\n"
     ]
    }
   ],
   "source": [
    "DFR.DATE = [i[:7] for i in DFR.DATE]\n",
    "\n",
    "\n",
    "DFR.columns = ['Date','DFR']\n",
    "\n",
    "DFR = DFR.drop_duplicates(subset=['Date'], keep='first')\n",
    "\n",
    "print(DFR.head())"
   ]
  },
  {
   "cell_type": "code",
   "execution_count": 15,
   "metadata": {},
   "outputs": [
    {
     "name": "stdout",
     "output_type": "stream",
     "text": [
      "         DATE  BAA_AAA\n",
      "0  2010-11-01     1.05\n",
      "1  2010-12-01     1.08\n",
      "2  2011-01-01     1.05\n",
      "3  2011-02-01     0.93\n",
      "4  2011-03-01     0.90\n"
     ]
    }
   ],
   "source": [
    "DFY = pd.read_csv('../Data/DFY.csv')\n",
    "\n",
    "print(DFY.head())"
   ]
  },
  {
   "cell_type": "code",
   "execution_count": 16,
   "metadata": {},
   "outputs": [
    {
     "name": "stdout",
     "output_type": "stream",
     "text": [
      "      Date   DFY\n",
      "0  2010-11  1.05\n",
      "1  2010-12  1.08\n",
      "2  2011-01  1.05\n",
      "3  2011-02  0.93\n",
      "4  2011-03  0.90\n"
     ]
    }
   ],
   "source": [
    "DFY.DATE = [i[:7] for i in DFY.DATE]\n",
    "\n",
    "\n",
    "DFY.columns = ['Date','DFY']\n",
    "\n",
    "print(DFY.head())"
   ]
  },
  {
   "cell_type": "code",
   "execution_count": 17,
   "metadata": {},
   "outputs": [
    {
     "name": "stdout",
     "output_type": "stream",
     "text": [
      "         DATE  POILWTIUSDM\n",
      "0  2010-10-01    81.899524\n",
      "1  2010-11-01    84.191818\n",
      "2  2010-12-01    89.223478\n",
      "3  2011-01-01    89.510000\n",
      "4  2011-02-01    89.366000\n"
     ]
    }
   ],
   "source": [
    "OIL_WTI = pd.read_csv('../Data/OIL_WTI.csv')\n",
    "\n",
    "print(OIL_WTI.head())"
   ]
  },
  {
   "cell_type": "code",
   "execution_count": 18,
   "metadata": {},
   "outputs": [
    {
     "name": "stdout",
     "output_type": "stream",
     "text": [
      "      Date    OIL_WTI\n",
      "0  2010-10  81.899524\n",
      "1  2010-11  84.191818\n",
      "2  2010-12  89.223478\n",
      "3  2011-01  89.510000\n",
      "4  2011-02  89.366000\n"
     ]
    }
   ],
   "source": [
    "OIL_WTI.DATE = [i[:7] for i in OIL_WTI.DATE]\n",
    "\n",
    "\n",
    "OIL_WTI.columns = ['Date','OIL_WTI']\n",
    "\n",
    "print(OIL_WTI.head())"
   ]
  },
  {
   "cell_type": "code",
   "execution_count": 19,
   "metadata": {},
   "outputs": [
    {
     "name": "stdout",
     "output_type": "stream",
     "text": [
      "     Date   Price    Open    High     Low Change %\n",
      "0  Dec 20  1.2151  1.1938  1.2177  1.1935    1.87%\n",
      "1  Nov 20  1.1928  1.1658  1.2004  1.1603    2.41%\n",
      "2  Oct 20  1.1647  1.1719  1.1882  1.1639   -0.61%\n",
      "3  Sep 20  1.1718  1.1936  1.2012  1.1612   -1.83%\n",
      "4  Aug 20  1.1936  1.1783  1.1967  1.1696    1.38%\n"
     ]
    }
   ],
   "source": [
    "EUR_USD = pd.read_csv('../Data/EUR_USD.csv')\n",
    "\n",
    "print(EUR_USD.head())"
   ]
  },
  {
   "cell_type": "code",
   "execution_count": 20,
   "metadata": {},
   "outputs": [
    {
     "name": "stdout",
     "output_type": "stream",
     "text": [
      "      Date  EUR_USD\n",
      "0  2020-12   1.2151\n",
      "1  2020-11   1.1928\n",
      "2  2020-10   1.1647\n",
      "3  2020-09   1.1718\n",
      "4  2020-08   1.1936\n"
     ]
    }
   ],
   "source": [
    "EUR_USD.Date = ['20'+i[-2:]+'-'+month_mapper(i[:3]) for i in EUR_USD.Date]\n",
    "\n",
    "EUR_USD = EUR_USD[['Date','Price']]\n",
    "EUR_USD.columns = ['Date','EUR_USD']\n",
    "\n",
    "print(EUR_USD.head())"
   ]
  },
  {
   "cell_type": "code",
   "execution_count": 21,
   "metadata": {},
   "outputs": [
    {
     "name": "stdout",
     "output_type": "stream",
     "text": [
      "     Date   Price    Open    High     Low Change %\n",
      "0  Dec 20  0.1528  0.1520  0.1528  0.1518    0.54%\n",
      "1  Nov 20  0.1519  0.1494  0.1529  0.1481    1.70%\n",
      "2  Oct 20  0.1494  0.1473  0.1506  0.1473    1.47%\n",
      "3  Sep 20  0.1472  0.1461  0.1481  0.1458    0.85%\n",
      "4  Aug 20  0.1460  0.1432  0.1462  0.1431    1.85%\n"
     ]
    }
   ],
   "source": [
    "CNY_USD = pd.read_csv('../Data/CNY_USD.csv')\n",
    "\n",
    "print(CNY_USD.head())"
   ]
  },
  {
   "cell_type": "code",
   "execution_count": 22,
   "metadata": {},
   "outputs": [
    {
     "name": "stdout",
     "output_type": "stream",
     "text": [
      "      Date  CNY_USD\n",
      "0  2020-12   0.1528\n",
      "1  2020-11   0.1519\n",
      "2  2020-10   0.1494\n",
      "3  2020-09   0.1472\n",
      "4  2020-08   0.1460\n"
     ]
    }
   ],
   "source": [
    "CNY_USD.Date = ['20'+i[-2:]+'-'+month_mapper(i[:3]) for i in CNY_USD.Date]\n",
    "\n",
    "CNY_USD = CNY_USD[['Date','Price']]\n",
    "CNY_USD.columns = ['Date','CNY_USD']\n",
    "\n",
    "print(CNY_USD.head())"
   ]
  },
  {
   "cell_type": "code",
   "execution_count": 23,
   "metadata": {},
   "outputs": [
    {
     "name": "stdout",
     "output_type": "stream",
     "text": [
      "         Date         Open         High          Low        Close  \\\n",
      "0  1996-01-01  3689.300049  3767.399902  3645.300049  3759.300049   \n",
      "1  1996-02-01  3753.300049  3791.600098  3688.699951  3727.600098   \n",
      "2  1996-03-01  3729.500000  3792.500000  3629.100098  3699.699951   \n",
      "3  1996-04-01  3692.100098  3858.899902  3692.100098  3817.899902   \n",
      "4  1996-05-01  3816.899902  3829.399902  3707.300049  3747.800049   \n",
      "\n",
      "     Adj Close  Volume  \n",
      "0  3759.300049       0  \n",
      "1  3727.600098       0  \n",
      "2  3699.699951       0  \n",
      "3  3817.899902       0  \n",
      "4  3747.800049       0  \n"
     ]
    }
   ],
   "source": [
    "FTSE = pd.read_csv('../Data/FTSE.csv')\n",
    "\n",
    "print(FTSE.head())"
   ]
  },
  {
   "cell_type": "code",
   "execution_count": 24,
   "metadata": {},
   "outputs": [
    {
     "name": "stdout",
     "output_type": "stream",
     "text": [
      "      Date      FTSE100\n",
      "0  1996-01  3759.300049\n",
      "1  1996-02  3727.600098\n",
      "2  1996-03  3699.699951\n",
      "3  1996-04  3817.899902\n",
      "4  1996-05  3747.800049\n"
     ]
    }
   ],
   "source": [
    "FTSE.Date = [i[:7] for i in FTSE.Date]\n",
    "\n",
    "FTSE = FTSE[['Date','Close']]\n",
    "\n",
    "FTSE.columns = ['Date','FTSE100']\n",
    "\n",
    "print(FTSE.head())"
   ]
  },
  {
   "cell_type": "markdown",
   "metadata": {},
   "source": [
    "# Data merging"
   ]
  },
  {
   "cell_type": "code",
   "execution_count": 25,
   "metadata": {},
   "outputs": [
    {
     "name": "stdout",
     "output_type": "stream",
     "text": [
      "      Date  snp500_Open  snp500_High   snp500_Low  snp500_Close  \\\n",
      "0  2011-01  1257.619995  1302.670044  1257.619995   1286.119995   \n",
      "1  2011-02  1289.140015  1344.069946  1289.140015   1327.219971   \n",
      "2  2011-03  1328.640015  1332.280029  1249.050049   1325.829956   \n",
      "3  2011-04  1329.479980  1364.560059  1294.699951   1363.609985   \n",
      "4  2011-05  1365.209961  1370.579956  1311.800049   1345.199951   \n",
      "\n",
      "   snp500_Adj Close  snp500_Volume   CAPE  \n",
      "0       1286.119995    92164940000  22.98  \n",
      "1       1327.219971    59223660000  23.49  \n",
      "2       1325.829956    89507640000  22.90  \n",
      "3       1363.609985    77364810000  23.14  \n",
      "4       1345.199951    81708980000  23.06  \n"
     ]
    }
   ],
   "source": [
    "df = snp500.merge(cape,how='inner',left_on='Date',right_on='Date')\n",
    "\n",
    "print(df.head())"
   ]
  },
  {
   "cell_type": "code",
   "execution_count": 26,
   "metadata": {},
   "outputs": [
    {
     "name": "stdout",
     "output_type": "stream",
     "text": [
      "      Date  snp500_Open  snp500_High   snp500_Low  snp500_Close  \\\n",
      "0  2011-01  1257.619995  1302.670044  1257.619995   1286.119995   \n",
      "1  2011-02  1289.140015  1344.069946  1289.140015   1327.219971   \n",
      "2  2011-03  1328.640015  1332.280029  1249.050049   1325.829956   \n",
      "3  2011-04  1329.479980  1364.560059  1294.699951   1363.609985   \n",
      "4  2011-05  1365.209961  1370.579956  1311.800049   1345.199951   \n",
      "\n",
      "   snp500_Adj Close  snp500_Volume   CAPE   TB10  \n",
      "0       1286.119995    92164940000  22.98  3.374  \n",
      "1       1327.219971    59223660000  23.49  3.422  \n",
      "2       1325.829956    89507640000  22.90  3.470  \n",
      "3       1363.609985    77364810000  23.14  3.290  \n",
      "4       1345.199951    81708980000  23.06  3.059  \n"
     ]
    }
   ],
   "source": [
    "df = df.merge(TB10,how='inner',left_on='Date',right_on='Date')\n",
    "\n",
    "print(df.head())"
   ]
  },
  {
   "cell_type": "code",
   "execution_count": 27,
   "metadata": {},
   "outputs": [
    {
     "name": "stdout",
     "output_type": "stream",
     "text": [
      "      Date  snp500_Open  snp500_High   snp500_Low  snp500_Close  \\\n",
      "0  2011-01  1257.619995  1302.670044  1257.619995   1286.119995   \n",
      "1  2011-02  1289.140015  1344.069946  1289.140015   1327.219971   \n",
      "2  2011-03  1328.640015  1332.280029  1249.050049   1325.829956   \n",
      "3  2011-04  1329.479980  1364.560059  1294.699951   1363.609985   \n",
      "4  2011-05  1365.209961  1370.579956  1311.800049   1345.199951   \n",
      "\n",
      "   snp500_Adj Close  snp500_Volume   CAPE   TB10  CPI_growth_rate  \n",
      "0       1286.119995    92164940000  22.98  3.374         0.476323  \n",
      "1       1327.219971    59223660000  23.49  3.422         0.493137  \n",
      "2       1325.829956    89507640000  22.90  3.470         0.975107  \n",
      "3       1363.609985    77364810000  23.14  3.290         0.643943  \n",
      "4       1345.199951    81708980000  23.06  3.059         0.470419  \n"
     ]
    }
   ],
   "source": [
    "df = df.merge(CPI_growth_rate,how='inner',left_on='Date',right_on='Date')\n",
    "\n",
    "print(df.head())"
   ]
  },
  {
   "cell_type": "code",
   "execution_count": 28,
   "metadata": {},
   "outputs": [
    {
     "name": "stdout",
     "output_type": "stream",
     "text": [
      "      Date  snp500_Open  snp500_High   snp500_Low  snp500_Close  \\\n",
      "0  2011-01  1257.619995  1302.670044  1257.619995   1286.119995   \n",
      "1  2011-02  1289.140015  1344.069946  1289.140015   1327.219971   \n",
      "2  2011-03  1328.640015  1332.280029  1249.050049   1325.829956   \n",
      "3  2011-04  1329.479980  1364.560059  1294.699951   1363.609985   \n",
      "4  2011-05  1365.209961  1370.579956  1311.800049   1345.199951   \n",
      "\n",
      "   snp500_Adj Close  snp500_Volume   CAPE   TB10  CPI_growth_rate  TB3MS  \n",
      "0       1286.119995    92164940000  22.98  3.374         0.476323   0.15  \n",
      "1       1327.219971    59223660000  23.49  3.422         0.493137   0.13  \n",
      "2       1325.829956    89507640000  22.90  3.470         0.975107   0.10  \n",
      "3       1363.609985    77364810000  23.14  3.290         0.643943   0.06  \n",
      "4       1345.199951    81708980000  23.06  3.059         0.470419   0.04  \n"
     ]
    }
   ],
   "source": [
    "df = df.merge(TB3MS,how='inner',left_on='Date',right_on='Date')\n",
    "\n",
    "print(df.head())"
   ]
  },
  {
   "cell_type": "code",
   "execution_count": 29,
   "metadata": {},
   "outputs": [
    {
     "name": "stdout",
     "output_type": "stream",
     "text": [
      "      Date  snp500_Open  snp500_High   snp500_Low  snp500_Close  \\\n",
      "0  2011-01  1257.619995  1302.670044  1257.619995   1286.119995   \n",
      "1  2011-02  1289.140015  1344.069946  1289.140015   1327.219971   \n",
      "2  2011-03  1328.640015  1332.280029  1249.050049   1325.829956   \n",
      "3  2011-04  1329.479980  1364.560059  1294.699951   1363.609985   \n",
      "4  2011-05  1365.209961  1370.579956  1311.800049   1345.199951   \n",
      "\n",
      "   snp500_Adj Close  snp500_Volume   CAPE   TB10  CPI_growth_rate  TB3MS   DFR  \n",
      "0       1286.119995    92164940000  22.98  3.374         0.476323   0.15  2.68  \n",
      "1       1327.219971    59223660000  23.49  3.422         0.493137   0.13  2.66  \n",
      "2       1325.829956    89507640000  22.90  3.470         0.975107   0.10  2.59  \n",
      "3       1363.609985    77364810000  23.14  3.290         0.643943   0.06  2.58  \n",
      "4       1345.199951    81708980000  23.06  3.059         0.470419   0.04  2.57  \n"
     ]
    }
   ],
   "source": [
    "df = df.merge(DFR,how='inner',left_on='Date',right_on='Date')\n",
    "\n",
    "print(df.head())"
   ]
  },
  {
   "cell_type": "code",
   "execution_count": 30,
   "metadata": {},
   "outputs": [
    {
     "name": "stdout",
     "output_type": "stream",
     "text": [
      "      Date  snp500_Open  snp500_High   snp500_Low  snp500_Close  \\\n",
      "0  2011-01  1257.619995  1302.670044  1257.619995   1286.119995   \n",
      "1  2011-02  1289.140015  1344.069946  1289.140015   1327.219971   \n",
      "2  2011-03  1328.640015  1332.280029  1249.050049   1325.829956   \n",
      "3  2011-04  1329.479980  1364.560059  1294.699951   1363.609985   \n",
      "4  2011-05  1365.209961  1370.579956  1311.800049   1345.199951   \n",
      "\n",
      "   snp500_Adj Close  snp500_Volume   CAPE   TB10  CPI_growth_rate  TB3MS  \\\n",
      "0       1286.119995    92164940000  22.98  3.374         0.476323   0.15   \n",
      "1       1327.219971    59223660000  23.49  3.422         0.493137   0.13   \n",
      "2       1325.829956    89507640000  22.90  3.470         0.975107   0.10   \n",
      "3       1363.609985    77364810000  23.14  3.290         0.643943   0.06   \n",
      "4       1345.199951    81708980000  23.06  3.059         0.470419   0.04   \n",
      "\n",
      "    DFR   DFY  \n",
      "0  2.68  1.05  \n",
      "1  2.66  0.93  \n",
      "2  2.59  0.90  \n",
      "3  2.58  0.86  \n",
      "4  2.57  0.82  \n"
     ]
    }
   ],
   "source": [
    "df = df.merge(DFY,how='inner',left_on='Date',right_on='Date')\n",
    "\n",
    "print(df.head())"
   ]
  },
  {
   "cell_type": "code",
   "execution_count": 31,
   "metadata": {},
   "outputs": [
    {
     "name": "stdout",
     "output_type": "stream",
     "text": [
      "      Date  snp500_Open  snp500_High   snp500_Low  snp500_Close  \\\n",
      "0  2011-01  1257.619995  1302.670044  1257.619995   1286.119995   \n",
      "1  2011-02  1289.140015  1344.069946  1289.140015   1327.219971   \n",
      "2  2011-03  1328.640015  1332.280029  1249.050049   1325.829956   \n",
      "3  2011-04  1329.479980  1364.560059  1294.699951   1363.609985   \n",
      "4  2011-05  1365.209961  1370.579956  1311.800049   1345.199951   \n",
      "\n",
      "   snp500_Adj Close  snp500_Volume   CAPE   TB10  CPI_growth_rate  TB3MS  \\\n",
      "0       1286.119995    92164940000  22.98  3.374         0.476323   0.15   \n",
      "1       1327.219971    59223660000  23.49  3.422         0.493137   0.13   \n",
      "2       1325.829956    89507640000  22.90  3.470         0.975107   0.10   \n",
      "3       1363.609985    77364810000  23.14  3.290         0.643943   0.06   \n",
      "4       1345.199951    81708980000  23.06  3.059         0.470419   0.04   \n",
      "\n",
      "    DFR   DFY     OIL_WTI  \n",
      "0  2.68  1.05   89.510000  \n",
      "1  2.66  0.93   89.366000  \n",
      "2  2.59  0.90  102.916087  \n",
      "3  2.58  0.86  110.042857  \n",
      "4  2.57  0.82  101.251364  \n"
     ]
    }
   ],
   "source": [
    "df = df.merge(OIL_WTI,how='inner',left_on='Date',right_on='Date')\n",
    "\n",
    "print(df.head())"
   ]
  },
  {
   "cell_type": "code",
   "execution_count": 32,
   "metadata": {},
   "outputs": [
    {
     "name": "stdout",
     "output_type": "stream",
     "text": [
      "      Date  snp500_Open  snp500_High   snp500_Low  snp500_Close  \\\n",
      "0  2011-01  1257.619995  1302.670044  1257.619995   1286.119995   \n",
      "1  2011-02  1289.140015  1344.069946  1289.140015   1327.219971   \n",
      "2  2011-03  1328.640015  1332.280029  1249.050049   1325.829956   \n",
      "3  2011-04  1329.479980  1364.560059  1294.699951   1363.609985   \n",
      "4  2011-05  1365.209961  1370.579956  1311.800049   1345.199951   \n",
      "\n",
      "   snp500_Adj Close  snp500_Volume   CAPE   TB10  CPI_growth_rate  TB3MS  \\\n",
      "0       1286.119995    92164940000  22.98  3.374         0.476323   0.15   \n",
      "1       1327.219971    59223660000  23.49  3.422         0.493137   0.13   \n",
      "2       1325.829956    89507640000  22.90  3.470         0.975107   0.10   \n",
      "3       1363.609985    77364810000  23.14  3.290         0.643943   0.06   \n",
      "4       1345.199951    81708980000  23.06  3.059         0.470419   0.04   \n",
      "\n",
      "    DFR   DFY     OIL_WTI  EUR_USD  \n",
      "0  2.68  1.05   89.510000   1.3686  \n",
      "1  2.66  0.93   89.366000   1.3802  \n",
      "2  2.59  0.90  102.916087   1.4166  \n",
      "3  2.58  0.86  110.042857   1.4802  \n",
      "4  2.57  0.82  101.251364   1.4396  \n"
     ]
    }
   ],
   "source": [
    "df = df.merge(EUR_USD,how='inner',left_on='Date',right_on='Date')\n",
    "\n",
    "print(df.head())"
   ]
  },
  {
   "cell_type": "code",
   "execution_count": 33,
   "metadata": {},
   "outputs": [
    {
     "name": "stdout",
     "output_type": "stream",
     "text": [
      "      Date  snp500_Open  snp500_High   snp500_Low  snp500_Close  \\\n",
      "0  2011-01  1257.619995  1302.670044  1257.619995   1286.119995   \n",
      "1  2011-02  1289.140015  1344.069946  1289.140015   1327.219971   \n",
      "2  2011-03  1328.640015  1332.280029  1249.050049   1325.829956   \n",
      "3  2011-04  1329.479980  1364.560059  1294.699951   1363.609985   \n",
      "4  2011-05  1365.209961  1370.579956  1311.800049   1345.199951   \n",
      "\n",
      "   snp500_Adj Close  snp500_Volume   CAPE   TB10  CPI_growth_rate  TB3MS  \\\n",
      "0       1286.119995    92164940000  22.98  3.374         0.476323   0.15   \n",
      "1       1327.219971    59223660000  23.49  3.422         0.493137   0.13   \n",
      "2       1325.829956    89507640000  22.90  3.470         0.975107   0.10   \n",
      "3       1363.609985    77364810000  23.14  3.290         0.643943   0.06   \n",
      "4       1345.199951    81708980000  23.06  3.059         0.470419   0.04   \n",
      "\n",
      "    DFR   DFY     OIL_WTI  EUR_USD  CNY_USD  \n",
      "0  2.68  1.05   89.510000   1.3686   0.1513  \n",
      "1  2.66  0.93   89.366000   1.3802   0.1522  \n",
      "2  2.59  0.90  102.916087   1.4166   0.1527  \n",
      "3  2.58  0.86  110.042857   1.4802   0.1540  \n",
      "4  2.57  0.82  101.251364   1.4396   0.1543  \n"
     ]
    }
   ],
   "source": [
    "df = df.merge(CNY_USD,how='inner',left_on='Date',right_on='Date')\n",
    "\n",
    "print(df.head())"
   ]
  },
  {
   "cell_type": "code",
   "execution_count": 34,
   "metadata": {
    "scrolled": true
   },
   "outputs": [
    {
     "name": "stdout",
     "output_type": "stream",
     "text": [
      "      Date  snp500_Open  snp500_High   snp500_Low  snp500_Close  \\\n",
      "0  2011-01  1257.619995  1302.670044  1257.619995   1286.119995   \n",
      "1  2011-02  1289.140015  1344.069946  1289.140015   1327.219971   \n",
      "2  2011-03  1328.640015  1332.280029  1249.050049   1325.829956   \n",
      "3  2011-04  1329.479980  1364.560059  1294.699951   1363.609985   \n",
      "4  2011-05  1365.209961  1370.579956  1311.800049   1345.199951   \n",
      "\n",
      "   snp500_Adj Close  snp500_Volume   CAPE   TB10  CPI_growth_rate  TB3MS  \\\n",
      "0       1286.119995    92164940000  22.98  3.374         0.476323   0.15   \n",
      "1       1327.219971    59223660000  23.49  3.422         0.493137   0.13   \n",
      "2       1325.829956    89507640000  22.90  3.470         0.975107   0.10   \n",
      "3       1363.609985    77364810000  23.14  3.290         0.643943   0.06   \n",
      "4       1345.199951    81708980000  23.06  3.059         0.470419   0.04   \n",
      "\n",
      "    DFR   DFY     OIL_WTI  EUR_USD  CNY_USD      FTSE100  \n",
      "0  2.68  1.05   89.510000   1.3686   0.1513  5862.899902  \n",
      "1  2.66  0.93   89.366000   1.3802   0.1522  5994.000000  \n",
      "2  2.59  0.90  102.916087   1.4166   0.1527  5908.799805  \n",
      "3  2.58  0.86  110.042857   1.4802   0.1540  6069.899902  \n",
      "4  2.57  0.82  101.251364   1.4396   0.1543  5990.000000  \n"
     ]
    }
   ],
   "source": [
    "df = df.merge(FTSE,how='inner',left_on='Date',right_on='Date')\n",
    "\n",
    "print(df.head())"
   ]
  },
  {
   "cell_type": "code",
   "execution_count": 35,
   "metadata": {},
   "outputs": [
    {
     "name": "stdout",
     "output_type": "stream",
     "text": [
      "(117, 17)\n"
     ]
    }
   ],
   "source": [
    "print(df.shape)"
   ]
  },
  {
   "cell_type": "markdown",
   "metadata": {},
   "source": [
    "# Export preprocessed data"
   ]
  },
  {
   "cell_type": "code",
   "execution_count": 36,
   "metadata": {},
   "outputs": [],
   "source": [
    "df.to_csv('../Data/preprocessed_df.csv')"
   ]
  },
  {
   "cell_type": "code",
   "execution_count": null,
   "metadata": {},
   "outputs": [],
   "source": []
  }
 ],
 "metadata": {
  "kernelspec": {
   "display_name": "Python 3",
   "language": "python",
   "name": "python3"
  },
  "language_info": {
   "codemirror_mode": {
    "name": "ipython",
    "version": 3
   },
   "file_extension": ".py",
   "mimetype": "text/x-python",
   "name": "python",
   "nbconvert_exporter": "python",
   "pygments_lexer": "ipython3",
   "version": "3.7.4"
  },
  "toc": {
   "base_numbering": 1,
   "nav_menu": {},
   "number_sections": true,
   "sideBar": true,
   "skip_h1_title": false,
   "title_cell": "Table of Contents",
   "title_sidebar": "Contents",
   "toc_cell": false,
   "toc_position": {},
   "toc_section_display": true,
   "toc_window_display": true
  }
 },
 "nbformat": 4,
 "nbformat_minor": 2
}
