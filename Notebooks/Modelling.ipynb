{
 "cells": [
  {
   "cell_type": "markdown",
   "metadata": {},
   "source": [
    "# Import packages"
   ]
  },
  {
   "cell_type": "code",
   "execution_count": 10,
   "metadata": {},
   "outputs": [],
   "source": [
    "import pandas as pd\n",
    "import numpy as np\n",
    "import sklearn as sk\n",
    "import statsmodels.api as sm\n",
    "\n",
    "import matplotlib.pyplot as plt\n",
    "\n",
    "from statsmodels.tsa.stattools import adfuller\n",
    "\n"
   ]
  },
  {
   "cell_type": "markdown",
   "metadata": {},
   "source": [
    "# Custom functions"
   ]
  },
  {
   "cell_type": "markdown",
   "metadata": {},
   "source": [
    "# Import data"
   ]
  },
  {
   "cell_type": "code",
   "execution_count": 4,
   "metadata": {},
   "outputs": [
    {
     "name": "stdout",
     "output_type": "stream",
     "text": [
      "      Date  snp500_Open  snp500_High   snp500_Low  snp500_Close  \\\n",
      "0  2011-01  1257.619995  1302.670044  1257.619995   1286.119995   \n",
      "1  2011-02  1289.140015  1344.069946  1289.140015   1327.219971   \n",
      "2  2011-03  1328.640015  1332.280029  1249.050049   1325.829956   \n",
      "3  2011-04  1329.479980  1364.560059  1294.699951   1363.609985   \n",
      "4  2011-05  1365.209961  1370.579956  1311.800049   1345.199951   \n",
      "\n",
      "   snp500_Adj Close  snp500_Volume   CAPE   TB10  CPI_growth_rate  TB3MS  \\\n",
      "0       1286.119995    92164940000  22.98  3.374         0.476323   0.15   \n",
      "1       1327.219971    59223660000  23.49  3.422         0.493137   0.13   \n",
      "2       1325.829956    89507640000  22.90  3.470         0.975107   0.10   \n",
      "3       1363.609985    77364810000  23.14  3.290         0.643943   0.06   \n",
      "4       1345.199951    81708980000  23.06  3.059         0.470419   0.04   \n",
      "\n",
      "    DFR   DFY     OIL_WTI  EUR_USD  CNY_USD      FTSE100  \n",
      "0  2.68  1.05   89.510000   1.3686   0.1513  5862.899902  \n",
      "1  2.66  0.93   89.366000   1.3802   0.1522  5994.000000  \n",
      "2  2.59  0.90  102.916087   1.4166   0.1527  5908.799805  \n",
      "3  2.58  0.86  110.042857   1.4802   0.1540  6069.899902  \n",
      "4  2.57  0.82  101.251364   1.4396   0.1543  5990.000000  \n"
     ]
    }
   ],
   "source": [
    "# Import preprocess dataset\n",
    "df = pd.read_csv('../Data/preprocessed_df.csv',index_col=0)\n",
    "\n",
    "print(df.head())"
   ]
  },
  {
   "cell_type": "markdown",
   "metadata": {},
   "source": [
    "# Derive additional features"
   ]
  },
  {
   "cell_type": "markdown",
   "metadata": {},
   "source": [
    "## S&P 500 realized price volatility"
   ]
  },
  {
   "cell_type": "code",
   "execution_count": 7,
   "metadata": {
    "scrolled": true
   },
   "outputs": [
    {
     "name": "stdout",
     "output_type": "stream",
     "text": [
      "      Date  snp500_Open  snp500_High   snp500_Low  snp500_Close  \\\n",
      "0  2011-01  1257.619995  1302.670044  1257.619995   1286.119995   \n",
      "1  2011-02  1289.140015  1344.069946  1289.140015   1327.219971   \n",
      "2  2011-03  1328.640015  1332.280029  1249.050049   1325.829956   \n",
      "3  2011-04  1329.479980  1364.560059  1294.699951   1363.609985   \n",
      "4  2011-05  1365.209961  1370.579956  1311.800049   1345.199951   \n",
      "\n",
      "   snp500_Adj Close  snp500_Volume   CAPE   TB10  CPI_growth_rate  TB3MS  \\\n",
      "0       1286.119995    92164940000  22.98  3.374         0.476323   0.15   \n",
      "1       1327.219971    59223660000  23.49  3.422         0.493137   0.13   \n",
      "2       1325.829956    89507640000  22.90  3.470         0.975107   0.10   \n",
      "3       1363.609985    77364810000  23.14  3.290         0.643943   0.06   \n",
      "4       1345.199951    81708980000  23.06  3.059         0.470419   0.04   \n",
      "\n",
      "    DFR   DFY     OIL_WTI  EUR_USD  CNY_USD      FTSE100  SPV  \n",
      "0  2.68  1.05   89.510000   1.3686   0.1513  5862.899902  NaN  \n",
      "1  2.66  0.93   89.366000   1.3802   0.1522  5994.000000  NaN  \n",
      "2  2.59  0.90  102.916087   1.4166   0.1527  5908.799805  NaN  \n",
      "3  2.58  0.86  110.042857   1.4802   0.1540  6069.899902  NaN  \n",
      "4  2.57  0.82  101.251364   1.4396   0.1543  5990.000000  NaN  \n"
     ]
    }
   ],
   "source": [
    "# Parameters\n",
    "vol_window_size = 12\n",
    "\n",
    "# Construct feature\n",
    "df['SPV'] = df['snp500_Adj Close'].rolling(window=vol_window_size).std()\n",
    "\n",
    "print(df.head())"
   ]
  },
  {
   "cell_type": "code",
   "execution_count": 9,
   "metadata": {},
   "outputs": [
    {
     "name": "stdout",
     "output_type": "stream",
     "text": [
      "       Date  snp500_Open  snp500_High   snp500_Low  snp500_Close  \\\n",
      "11  2011-12  1246.910034  1269.369995  1202.369995   1257.599976   \n",
      "12  2012-01  1258.859985  1333.469971  1258.859985   1312.410034   \n",
      "13  2012-02  1312.449951  1378.040039  1312.449951   1365.680054   \n",
      "14  2012-03  1365.900024  1419.150024  1340.030029   1408.469971   \n",
      "15  2012-04  1408.469971  1422.380005  1357.380005   1397.910034   \n",
      "\n",
      "    snp500_Adj Close  snp500_Volume   CAPE   TB10  CPI_growth_rate  TB3MS  \\\n",
      "11       1257.599976    74742430000  20.52  1.876        -0.246652   0.01   \n",
      "12       1312.410034    79567560000  21.21  1.795         0.440019   0.03   \n",
      "13       1365.680054    78385710000  21.80  1.974         0.440297   0.09   \n",
      "14       1408.469971    83899660000  22.05  2.214         0.759456   0.08   \n",
      "15       1397.910034    74761710000  21.78  1.919         0.302103   0.08   \n",
      "\n",
      "     DFR   DFY     OIL_WTI  EUR_USD  CNY_USD      FTSE100        SPV  \n",
      "11  3.30  1.32   98.612273   1.2948   0.1589  5572.299805  64.329768  \n",
      "12     .  1.38  100.148636   1.3078   0.1585  5681.600098  64.973509  \n",
      "13  3.25  1.29  102.262857   1.3326   0.1589  5871.500000  68.223263  \n",
      "14  3.10  1.24  106.150455   1.3344   0.1588  5768.500000  76.287039  \n",
      "15  3.08  1.23  103.284286   1.3240   0.1585  5737.799805  79.736218  \n"
     ]
    }
   ],
   "source": [
    "# Drop rows with NaN value\n",
    "df = df.dropna()\n",
    "\n",
    "print(df.head())"
   ]
  },
  {
   "cell_type": "markdown",
   "metadata": {},
   "source": [
    "# Transform variables for stationarity"
   ]
  },
  {
   "cell_type": "code",
   "execution_count": 12,
   "metadata": {},
   "outputs": [
    {
     "name": "stdout",
     "output_type": "stream",
     "text": [
      "ADF = -0.10605268883540019\n",
      "p-value = 0.9488323151711808\n"
     ]
    }
   ],
   "source": [
    "\n",
    "adf_test = adfuller(df['snp500_Adj Close'])\n",
    "\n",
    "print (\"ADF = \" + str(adf_test[0]))\n",
    "print (\"p-value = \" +str(adf_test[1]))\n",
    "\n",
    "# Not stationary!!"
   ]
  },
  {
   "cell_type": "code",
   "execution_count": 14,
   "metadata": {},
   "outputs": [
    {
     "name": "stdout",
     "output_type": "stream",
     "text": [
      "ADF = -7.376640172254899\n",
      "p-value = 8.687528002588852e-11\n"
     ]
    }
   ],
   "source": [
    "# Let's check after transformation\n",
    "log_return = [np.log(df['snp500_Adj Close'].iloc[i]/df['snp500_Adj Close'].iloc[i-1])\\\n",
    "              for i in range(1,len(df['snp500_Adj Close']))]\n",
    "\n",
    "adf_test = adfuller(log_return)\n",
    "\n",
    "print (\"ADF = \" + str(adf_test[0]))\n",
    "print (\"p-value = \" +str(adf_test[1]))\n",
    "\n",
    "# That is already stationary!"
   ]
  },
  {
   "cell_type": "markdown",
   "metadata": {},
   "source": [
    "# Create training sample and test sample"
   ]
  },
  {
   "cell_type": "code",
   "execution_count": 16,
   "metadata": {},
   "outputs": [],
   "source": [
    "n = len(df)\n",
    "testsize = 0.2\n",
    "\n",
    "train_last_index = int((1-testsize)*n)\n",
    "\n",
    "Y_test = log_return[train_last_index:]"
   ]
  },
  {
   "cell_type": "markdown",
   "metadata": {},
   "source": [
    "# Models"
   ]
  },
  {
   "cell_type": "markdown",
   "metadata": {},
   "source": [
    "## Historical moving average"
   ]
  },
  {
   "cell_type": "code",
   "execution_count": 24,
   "metadata": {},
   "outputs": [],
   "source": [
    "window_size = 12\n",
    "\n",
    "y_preds = [np.nanmean(np.asarray(log_return[i-window_size:i])) for i in range(window_size,len(log_return))]"
   ]
  },
  {
   "cell_type": "code",
   "execution_count": 28,
   "metadata": {},
   "outputs": [
    {
     "data": {
      "image/png": "[encoded data removed]",
      "text/plain": [
       "<Figure size 432x288 with 1 Axes>"
      ]
     },
     "metadata": {
      "needs_background": "light"
     },
     "output_type": "display_data"
    }
   ],
   "source": [
    "plt.plot(Y_test,label=\"Actual log returns\")\n",
    "plt.plot(y_preds[-len(Y_test):],label=\"Historical MA prediction\")\n",
    "plt.legend(loc='upper left')\n",
    "plt.show()"
   ]
  },
  {
   "cell_type": "code",
   "execution_count": null,
   "metadata": {},
   "outputs": [],
   "source": []
  }
 ],
 "metadata": {
  "kernelspec": {
   "display_name": "Python 3",
   "language": "python",
   "name": "python3"
  },
  "language_info": {
   "codemirror_mode": {
    "name": "ipython",
    "version": 3
   },
   "file_extension": ".py",
   "mimetype": "text/x-python",
   "name": "python",
   "nbconvert_exporter": "python",
   "pygments_lexer": "ipython3",
   "version": "3.7.4"
  },
  "toc": {
   "base_numbering": 1,
   "nav_menu": {},
   "number_sections": true,
   "sideBar": true,
   "skip_h1_title": false,
   "title_cell": "Table of Contents",
   "title_sidebar": "Contents",
   "toc_cell": false,
   "toc_position": {},
   "toc_section_display": true,
   "toc_window_display": true
  }
 },
 "nbformat": 4,
 "nbformat_minor": 2
}
