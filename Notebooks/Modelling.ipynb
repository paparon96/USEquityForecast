{
 "cells": [
  {
   "cell_type": "markdown",
   "metadata": {},
   "source": [
    "# Import packages"
   ]
  },
  {
   "cell_type": "code",
   "execution_count": 1,
   "metadata": {},
   "outputs": [],
   "source": [
    "import pandas as pd\n",
    "import numpy as np\n",
    "import sklearn as sk\n",
    "import statsmodels.api as sm\n",
    "\n",
    "import matplotlib.pyplot as plt\n",
    "import seaborn as sns\n",
    "\n",
    "# Import Statsmodels\n",
    "from statsmodels.tsa.api import VAR\n",
    "from statsmodels.tsa.api import ARMA\n",
    "\n",
    "\n",
    "from statsmodels.tsa.stattools import adfuller\n",
    "from statsmodels.tools.eval_measures import rmse, aic\n",
    "from statsmodels.tsa.stattools import grangercausalitytests\n",
    "from statsmodels.tsa.vector_ar.vecm import coint_johansen\n",
    "from statsmodels.stats.stattools import durbin_watson\n",
    "\n",
    "from sklearn.metrics import r2_score,mean_squared_error\n",
    "from sklearn.linear_model import Lasso\n",
    "from sklearn.model_selection import GridSearchCV\n",
    "\n",
    "\n",
    "\n",
    "\n",
    "import copy"
   ]
  },
  {
   "cell_type": "markdown",
   "metadata": {},
   "source": [
    "# Custom functions"
   ]
  },
  {
   "cell_type": "code",
   "execution_count": 2,
   "metadata": {},
   "outputs": [],
   "source": [
    "def log_transform_inverse(t,x):\n",
    "    \n",
    "    return t*np.exp(x)"
   ]
  },
  {
   "cell_type": "code",
   "execution_count": 3,
   "metadata": {},
   "outputs": [],
   "source": [
    "def diff_for_stationarity(df_input,cols,threshold):\n",
    "    \n",
    "    \"\"\"Checks the series for stationarity then difference it until it is stationary\n",
    "    (with the given threshold)\"\"\"\n",
    "    \n",
    "    df = copy.deepcopy(df_input)\n",
    "    \n",
    "    \n",
    "    # Get length of DF\n",
    "    n = len(df)\n",
    "    \n",
    "    # Loop over columns of interest\n",
    "    for col in cols:\n",
    "        stationarity = False\n",
    "        series = list(df[col].astype(float))\n",
    "        linear_diff = False\n",
    "        \n",
    "        try:\n",
    "        \n",
    "            counter = 0\n",
    "\n",
    "\n",
    "\n",
    "            while not stationarity:\n",
    "\n",
    "                #print(counter)\n",
    "\n",
    "                # Run ADF test\n",
    "                adf_test = adfuller(series)\n",
    "                pval = adf_test[1]\n",
    "\n",
    "                if pval < threshold:\n",
    "                    stationarity = True\n",
    "\n",
    "                else:\n",
    "                    # Difference the series\n",
    "                    series = [np.log(series[i]/series[i-1]) for i in range(1,n-counter)]\n",
    "\n",
    "                    counter += 1\n",
    "                    \n",
    "        except:\n",
    "            \n",
    "            counter = 0\n",
    "            stationarity = False\n",
    "            series = list(df[col].astype(float))\n",
    "            linear_diff = True\n",
    "\n",
    "            while not stationarity:\n",
    "\n",
    "                #print(counter)\n",
    "\n",
    "                # Run ADF test\n",
    "                adf_test = adfuller(series)\n",
    "                pval = adf_test[1]\n",
    "\n",
    "                if pval < threshold:\n",
    "                    stationarity = True\n",
    "\n",
    "                elif counter>1:\n",
    "                    stationarity = True\n",
    "                    series = list(df[col].astype(float))\n",
    "                else:\n",
    "                    # Difference the series\n",
    "                    series = [series[i]-series[i-1] for i in range(1,n-counter)]\n",
    "\n",
    "                    counter += 1\n",
    "        \n",
    "        # Create final series and assign it back to the dataframe\n",
    "        final_series = [None]*counter + series\n",
    "        df[col] = final_series\n",
    "        \n",
    "        if linear_diff:\n",
    "            type_diff = \"linear difference\"\n",
    "        else:\n",
    "            type_diff = \"logarithmic difference\"\n",
    "        \n",
    "        print(\"Variable: {} is {}-order integrated ({})!\".format(col,counter,type_diff))\n",
    "        \n",
    "        \n",
    "    return df\n",
    "            "
   ]
  },
  {
   "cell_type": "code",
   "execution_count": 4,
   "metadata": {},
   "outputs": [],
   "source": [
    "def grangers_causation_matrix(data, variables, test='ssr_chi2test', verbose=False):    \n",
    "    \"\"\"Check Granger Causality of all possible combinations of the Time series.\n",
    "    The rows are the response variable, columns are predictors. The values in the table \n",
    "    are the P-Values. P-Values lesser than the significance level (0.05), implies \n",
    "    the Null Hypothesis that the coefficients of the corresponding past values is \n",
    "    zero, that is, the X does not cause Y can be rejected.\n",
    "\n",
    "    data      : pandas dataframe containing the time series variables\n",
    "    variables : list containing names of the time series variables.\n",
    "    \"\"\"\n",
    "    df = pd.DataFrame(np.zeros((len(variables), len(variables))), columns=variables, index=variables)\n",
    "    for c in df.columns:\n",
    "        for r in df.index:\n",
    "            test_result = grangercausalitytests(data[[r, c]], maxlag=maxlag, verbose=False)\n",
    "            p_values = [round(test_result[i+1][0][test][1],4) for i in range(maxlag)]\n",
    "            if verbose: print(f'Y = {r}, X = {c}, P Values = {p_values}')\n",
    "            min_p_value = np.min(p_values)\n",
    "            df.loc[r, c] = min_p_value\n",
    "    df.columns = [var + '_x' for var in variables]\n",
    "    df.index = [var + '_y' for var in variables]\n",
    "    return df"
   ]
  },
  {
   "cell_type": "code",
   "execution_count": 5,
   "metadata": {},
   "outputs": [],
   "source": [
    "def cointegration_test(df, alpha, det_order,diff_lags): \n",
    "    \"\"\"Perform Johanson's Cointegration Test and Report Summary\"\"\"\n",
    "    out = coint_johansen(df,det_order,diff_lags)\n",
    "    d = {'0.90':0, '0.95':1, '0.99':2}\n",
    "    traces = out.lr1\n",
    "    cvts = out.cvt[:, d[str(1-alpha)]]\n",
    "    def adjust(val, length= 6): return str(val).ljust(length)\n",
    "\n",
    "    # Summary\n",
    "    print('Name   ::  Test Stat > C(95%)    =>   Signif  \\n', '--'*20)\n",
    "    for col, trace, cvt in zip(df.columns, traces, cvts):\n",
    "        print(adjust(col), ':: ', adjust(round(trace,2), 9), \">\", adjust(cvt, 8), ' =>  ' , trace > cvt)"
   ]
  },
  {
   "cell_type": "markdown",
   "metadata": {},
   "source": [
    "# Import data"
   ]
  },
  {
   "cell_type": "code",
   "execution_count": 6,
   "metadata": {},
   "outputs": [
    {
     "name": "stdout",
     "output_type": "stream",
     "text": [
      "      Date  snp500_Open  snp500_High   snp500_Low  snp500_Close  \\\n",
      "0  2011-01  1257.619995  1302.670044  1257.619995   1286.119995   \n",
      "1  2011-02  1289.140015  1344.069946  1289.140015   1327.219971   \n",
      "2  2011-03  1328.640015  1332.280029  1249.050049   1325.829956   \n",
      "3  2011-04  1329.479980  1364.560059  1294.699951   1363.609985   \n",
      "4  2011-05  1365.209961  1370.579956  1311.800049   1345.199951   \n",
      "\n",
      "   snp500_Adj Close  snp500_Volume   CAPE   TB10  CPI_growth_rate  TB3MS  \\\n",
      "0       1286.119995    92164940000  22.98  3.374         0.476323   0.15   \n",
      "1       1327.219971    59223660000  23.49  3.422         0.493137   0.13   \n",
      "2       1325.829956    89507640000  22.90  3.470         0.975107   0.10   \n",
      "3       1363.609985    77364810000  23.14  3.290         0.643943   0.06   \n",
      "4       1345.199951    81708980000  23.06  3.059         0.470419   0.04   \n",
      "\n",
      "        DFR   DFY     OIL_WTI  EUR_USD  CNY_USD      FTSE100  \n",
      "0  2.694000  1.05   89.510000   1.3686   0.1513  5862.899902  \n",
      "1  2.571579  0.93   89.366000   1.3802   0.1522  5994.000000  \n",
      "2  2.620435  0.90  102.916087   1.4166   0.1527  5908.799805  \n",
      "3  2.568000  0.86  110.042857   1.4802   0.1540  6069.899902  \n",
      "4  2.612857  0.82  101.251364   1.4396   0.1543  5990.000000  \n"
     ]
    }
   ],
   "source": [
    "# Import preprocess dataset\n",
    "df = pd.read_csv('../Data/preprocessed_df.csv',index_col=0)\n",
    "\n",
    "print(df.head())"
   ]
  },
  {
   "cell_type": "markdown",
   "metadata": {},
   "source": [
    "# Data preprocessing"
   ]
  },
  {
   "cell_type": "markdown",
   "metadata": {},
   "source": [
    "## Convert dates to indices"
   ]
  },
  {
   "cell_type": "code",
   "execution_count": 7,
   "metadata": {},
   "outputs": [
    {
     "name": "stdout",
     "output_type": "stream",
     "text": [
      "            snp500_Open  snp500_High   snp500_Low  snp500_Close  \\\n",
      "Date                                                              \n",
      "2011-01-01  1257.619995  1302.670044  1257.619995   1286.119995   \n",
      "2011-02-01  1289.140015  1344.069946  1289.140015   1327.219971   \n",
      "2011-03-01  1328.640015  1332.280029  1249.050049   1325.829956   \n",
      "2011-04-01  1329.479980  1364.560059  1294.699951   1363.609985   \n",
      "2011-05-01  1365.209961  1370.579956  1311.800049   1345.199951   \n",
      "\n",
      "            snp500_Adj Close  snp500_Volume   CAPE   TB10  CPI_growth_rate  \\\n",
      "Date                                                                         \n",
      "2011-01-01       1286.119995    92164940000  22.98  3.374         0.476323   \n",
      "2011-02-01       1327.219971    59223660000  23.49  3.422         0.493137   \n",
      "2011-03-01       1325.829956    89507640000  22.90  3.470         0.975107   \n",
      "2011-04-01       1363.609985    77364810000  23.14  3.290         0.643943   \n",
      "2011-05-01       1345.199951    81708980000  23.06  3.059         0.470419   \n",
      "\n",
      "            TB3MS       DFR   DFY     OIL_WTI  EUR_USD  CNY_USD      FTSE100  \n",
      "Date                                                                          \n",
      "2011-01-01   0.15  2.694000  1.05   89.510000   1.3686   0.1513  5862.899902  \n",
      "2011-02-01   0.13  2.571579  0.93   89.366000   1.3802   0.1522  5994.000000  \n",
      "2011-03-01   0.10  2.620435  0.90  102.916087   1.4166   0.1527  5908.799805  \n",
      "2011-04-01   0.06  2.568000  0.86  110.042857   1.4802   0.1540  6069.899902  \n",
      "2011-05-01   0.04  2.612857  0.82  101.251364   1.4396   0.1543  5990.000000  \n"
     ]
    }
   ],
   "source": [
    "df['Date']= pd.to_datetime(df['Date'])\n",
    "\n",
    "df = df.set_index('Date')\n",
    "\n",
    "print(df.head())"
   ]
  },
  {
   "cell_type": "markdown",
   "metadata": {},
   "source": [
    "# Exploratory data analysis"
   ]
  },
  {
   "cell_type": "code",
   "execution_count": 8,
   "metadata": {},
   "outputs": [
    {
     "name": "stdout",
     "output_type": "stream",
     "text": [
      "(117, 16)\n"
     ]
    }
   ],
   "source": [
    "print(df.shape)"
   ]
  },
  {
   "cell_type": "code",
   "execution_count": 9,
   "metadata": {
    "scrolled": true
   },
   "outputs": [
    {
     "name": "stderr",
     "output_type": "stream",
     "text": [
      "/Users/MacBook/opt/anaconda3/lib/python3.7/site-packages/pandas/plotting/_matplotlib/converter.py:103: FutureWarning: Using an implicitly registered datetime converter for a matplotlib plotting method. The converter was registered by pandas on import. Future versions of pandas will require you to explicitly register matplotlib converters.\n",
      "\n",
      "To register the converters:\n",
      "\t>>> from pandas.plotting import register_matplotlib_converters\n",
      "\t>>> register_matplotlib_converters()\n",
      "  warnings.warn(msg, FutureWarning)\n"
     ]
    },
    {
     "data": {
      "image/png": "[encoded data removed]",
      "text/plain": [
       "<Figure size 1200x720 with 16 Axes>"
      ]
     },
     "metadata": {
      "needs_background": "light"
     },
     "output_type": "display_data"
    }
   ],
   "source": [
    "# Plot\n",
    "fig, axes = plt.subplots(nrows=4, ncols=4, dpi=120, figsize=(10,6))\n",
    "for i, ax in enumerate(axes.flatten()):\n",
    "    data = df[df.columns[i]]\n",
    "    ax.plot(data, color='red', linewidth=1)\n",
    "    # Decorations\n",
    "    ax.set_title(df.columns[i])\n",
    "    ax.xaxis.set_ticks_position('none')\n",
    "    ax.yaxis.set_ticks_position('none')\n",
    "    ax.spines[\"top\"].set_alpha(0)\n",
    "    ax.tick_params(labelsize=6)\n",
    "\n",
    "plt.tight_layout();"
   ]
  },
  {
   "cell_type": "code",
   "execution_count": 10,
   "metadata": {},
   "outputs": [],
   "source": [
    "# Global parameters\n",
    "figsize = (12,5)\n",
    "\n",
    "sns.set_style(\"whitegrid\")\n",
    "\n",
    "axis_title_size = 14\n",
    "axis_label_size = 12\n",
    "legend_fontsize = 8\n",
    "save_dpi = 120\n",
    "ylims = (0,23)\n",
    "\n",
    "marker_vector = ['o','v','^','<','>','1','2','3','4','8','s','p','*','h','+','x','d','D','X','H','P']\n",
    "\n",
    "selected_colors = ['beige','black','blue','coral','cyan','deeppink','dimgray','firebrick','gold','green','indigo',\n",
    "                  'lightsalmon','lime','magenta','orange','purple','red','silver','steelblue','sandybrown',\n",
    "                   'mediumspringgreen','navy']\n",
    "\n",
    "y_logscale = True\n",
    "frequency = 'months' # 'years' , 'months' or 'weeks'\n",
    "percentages = True"
   ]
  },
  {
   "cell_type": "markdown",
   "metadata": {},
   "source": [
    "# Derive additional features"
   ]
  },
  {
   "cell_type": "markdown",
   "metadata": {},
   "source": [
    "## S&P 500 realized price volatility"
   ]
  },
  {
   "cell_type": "code",
   "execution_count": 11,
   "metadata": {
    "scrolled": true
   },
   "outputs": [
    {
     "name": "stdout",
     "output_type": "stream",
     "text": [
      "            snp500_Open  snp500_High   snp500_Low  snp500_Close  \\\n",
      "Date                                                              \n",
      "2011-01-01  1257.619995  1302.670044  1257.619995   1286.119995   \n",
      "2011-02-01  1289.140015  1344.069946  1289.140015   1327.219971   \n",
      "2011-03-01  1328.640015  1332.280029  1249.050049   1325.829956   \n",
      "2011-04-01  1329.479980  1364.560059  1294.699951   1363.609985   \n",
      "2011-05-01  1365.209961  1370.579956  1311.800049   1345.199951   \n",
      "\n",
      "            snp500_Adj Close  snp500_Volume   CAPE   TB10  CPI_growth_rate  \\\n",
      "Date                                                                         \n",
      "2011-01-01       1286.119995    92164940000  22.98  3.374         0.476323   \n",
      "2011-02-01       1327.219971    59223660000  23.49  3.422         0.493137   \n",
      "2011-03-01       1325.829956    89507640000  22.90  3.470         0.975107   \n",
      "2011-04-01       1363.609985    77364810000  23.14  3.290         0.643943   \n",
      "2011-05-01       1345.199951    81708980000  23.06  3.059         0.470419   \n",
      "\n",
      "            TB3MS       DFR   DFY     OIL_WTI  EUR_USD  CNY_USD      FTSE100  \\\n",
      "Date                                                                           \n",
      "2011-01-01   0.15  2.694000  1.05   89.510000   1.3686   0.1513  5862.899902   \n",
      "2011-02-01   0.13  2.571579  0.93   89.366000   1.3802   0.1522  5994.000000   \n",
      "2011-03-01   0.10  2.620435  0.90  102.916087   1.4166   0.1527  5908.799805   \n",
      "2011-04-01   0.06  2.568000  0.86  110.042857   1.4802   0.1540  6069.899902   \n",
      "2011-05-01   0.04  2.612857  0.82  101.251364   1.4396   0.1543  5990.000000   \n",
      "\n",
      "            SPV  \n",
      "Date             \n",
      "2011-01-01  NaN  \n",
      "2011-02-01  NaN  \n",
      "2011-03-01  NaN  \n",
      "2011-04-01  NaN  \n",
      "2011-05-01  NaN  \n"
     ]
    }
   ],
   "source": [
    "# Parameters\n",
    "vol_window_size = 12\n",
    "\n",
    "# Construct feature\n",
    "df['SPV'] = df['snp500_Adj Close'].rolling(window=vol_window_size).std()\n",
    "\n",
    "print(df.head())"
   ]
  },
  {
   "cell_type": "code",
   "execution_count": 12,
   "metadata": {},
   "outputs": [
    {
     "data": {
      "text/plain": [
       "[<matplotlib.lines.Line2D at 0x1c20fe3290>]"
      ]
     },
     "execution_count": 12,
     "metadata": {},
     "output_type": "execute_result"
    },
    {
     "data": {
      "image/png": "[encoded data removed]",
      "text/plain": [
       "<Figure size 432x288 with 1 Axes>"
      ]
     },
     "metadata": {},
     "output_type": "display_data"
    }
   ],
   "source": [
    "plt.plot(df['SPV'])"
   ]
  },
  {
   "cell_type": "markdown",
   "metadata": {},
   "source": [
    "## Drop unused features"
   ]
  },
  {
   "cell_type": "code",
   "execution_count": 13,
   "metadata": {},
   "outputs": [
    {
     "name": "stdout",
     "output_type": "stream",
     "text": [
      "            snp500_Adj Close   CAPE   TB10  CPI_growth_rate  TB3MS       DFR  \\\n",
      "Date                                                                           \n",
      "2011-01-01       1286.119995  22.98  3.374         0.476323   0.15  2.694000   \n",
      "2011-02-01       1327.219971  23.49  3.422         0.493137   0.13  2.571579   \n",
      "2011-03-01       1325.829956  22.90  3.470         0.975107   0.10  2.620435   \n",
      "2011-04-01       1363.609985  23.14  3.290         0.643943   0.06  2.568000   \n",
      "2011-05-01       1345.199951  23.06  3.059         0.470419   0.04  2.612857   \n",
      "\n",
      "             DFY     OIL_WTI  EUR_USD  CNY_USD      FTSE100  SPV  \n",
      "Date                                                              \n",
      "2011-01-01  1.05   89.510000   1.3686   0.1513  5862.899902  NaN  \n",
      "2011-02-01  0.93   89.366000   1.3802   0.1522  5994.000000  NaN  \n",
      "2011-03-01  0.90  102.916087   1.4166   0.1527  5908.799805  NaN  \n",
      "2011-04-01  0.86  110.042857   1.4802   0.1540  6069.899902  NaN  \n",
      "2011-05-01  0.82  101.251364   1.4396   0.1543  5990.000000  NaN  \n"
     ]
    }
   ],
   "source": [
    "# Drop\n",
    "df= df.drop(['snp500_Open','snp500_High','snp500_Low','snp500_Close','snp500_Volume'], axis=1)\n",
    "\n",
    "print(df.head())"
   ]
  },
  {
   "cell_type": "markdown",
   "metadata": {},
   "source": [
    "## Drop NaNs"
   ]
  },
  {
   "cell_type": "code",
   "execution_count": 14,
   "metadata": {},
   "outputs": [
    {
     "name": "stdout",
     "output_type": "stream",
     "text": [
      "            snp500_Adj Close   CAPE   TB10  CPI_growth_rate  TB3MS       DFR  \\\n",
      "Date                                                                           \n",
      "2011-12-01       1257.599976  20.52  1.876        -0.246652   0.01  3.272381   \n",
      "2012-01-01       1312.410034  21.21  1.795         0.440019   0.03  3.262000   \n",
      "2012-02-01       1365.680054  21.80  1.974         0.440297   0.09  3.174500   \n",
      "2012-03-01       1408.469971  22.05  2.214         0.759456   0.08  3.060455   \n",
      "2012-04-01       1397.910034  21.78  1.919         0.302103   0.08  3.140952   \n",
      "\n",
      "             DFY     OIL_WTI  EUR_USD  CNY_USD      FTSE100        SPV  \n",
      "Date                                                                    \n",
      "2011-12-01  1.32   98.612273   1.2948   0.1589  5572.299805  64.329768  \n",
      "2012-01-01  1.38  100.148636   1.3078   0.1585  5681.600098  64.973509  \n",
      "2012-02-01  1.29  102.262857   1.3326   0.1589  5871.500000  68.223263  \n",
      "2012-03-01  1.24  106.150455   1.3344   0.1588  5768.500000  76.287039  \n",
      "2012-04-01  1.23  103.284286   1.3240   0.1585  5737.799805  79.736218  \n",
      "(106, 12)\n"
     ]
    }
   ],
   "source": [
    "# Drop rows with NaN value\n",
    "df = df.dropna()\n",
    "\n",
    "print(df.head())\n",
    "\n",
    "print(df.shape)"
   ]
  },
  {
   "cell_type": "markdown",
   "metadata": {},
   "source": [
    "# Causality tests"
   ]
  },
  {
   "cell_type": "markdown",
   "metadata": {},
   "source": [
    "## Granger-causality"
   ]
  },
  {
   "cell_type": "code",
   "execution_count": 15,
   "metadata": {},
   "outputs": [],
   "source": [
    "# Parameters\n",
    "maxlag=12\n",
    "test = 'ssr_chi2test'\n",
    "\n",
    "# Run the test\n",
    "granger_df = grangers_causation_matrix(df, variables = df.columns) "
   ]
  },
  {
   "cell_type": "code",
   "execution_count": 16,
   "metadata": {},
   "outputs": [
    {
     "data": {
      "image/png": "[encoded data removed]",
      "text/plain": [
       "<Figure size 432x288 with 2 Axes>"
      ]
     },
     "metadata": {},
     "output_type": "display_data"
    }
   ],
   "source": [
    "# Visualise connections\n",
    "sns.set(font_scale=0.5)\n",
    "ax = sns.heatmap(granger_df, linewidth=0.1, cmap=\"YlGnBu\",) #cbar_kws={'format': '%.0f%%'})\n",
    "ax.xaxis.set_ticks_position('none')\n",
    "ax.yaxis.set_ticks_position('none')\n",
    "#ax.spines[\"top\"].set_alpha(0)\n",
    "ax.tick_params(labelsize=6)\n",
    "\n",
    "plt.savefig('../Figures/Granger_causality_df.pdf',\n",
    "bbox_inches='tight',dpi=save_dpi)"
   ]
  },
  {
   "cell_type": "markdown",
   "metadata": {},
   "source": [
    "## Cointegration test"
   ]
  },
  {
   "cell_type": "code",
   "execution_count": 17,
   "metadata": {},
   "outputs": [
    {
     "name": "stdout",
     "output_type": "stream",
     "text": [
      "Name   ::  Test Stat > C(95%)    =>   Signif  \n",
      " ----------------------------------------\n",
      "snp500_Adj Close ::  872.16    > 326.9716  =>   True\n",
      "CAPE   ::  684.15    > 277.9962  =>   True\n",
      "TB10   ::  529.97    > 232.8291  =>   True\n",
      "CPI_growth_rate ::  413.04    > 191.8122  =>   True\n",
      "TB3MS  ::  310.31    > 154.7977  =>   True\n",
      "DFR    ::  221.91    > 121.7375  =>   True\n",
      "DFY    ::  158.61    > 92.7136   =>   True\n",
      "OIL_WTI ::  105.62    > 67.6367   =>   True\n",
      "EUR_USD ::  62.08     > 46.5716   =>   True\n",
      "CNY_USD ::  31.32     > 29.5147   =>   True\n",
      "FTSE100 ::  14.31     > 16.364    =>   False\n",
      "SPV    ::  0.02      > 6.9406    =>   False\n"
     ]
    }
   ],
   "source": [
    "# Parameters\n",
    "threshold = 0.01\n",
    "det_order = -1\n",
    "diff_lags = 5\n",
    "\n",
    "# Run the test\n",
    "cointegration_test(df=df,alpha=threshold,det_order=det_order,diff_lags=diff_lags)"
   ]
  },
  {
   "cell_type": "markdown",
   "metadata": {},
   "source": [
    "# Transform variables for stationarity"
   ]
  },
  {
   "cell_type": "code",
   "execution_count": 18,
   "metadata": {},
   "outputs": [
    {
     "data": {
      "text/plain": [
       "Index(['snp500_Adj Close', 'CAPE', 'TB10', 'CPI_growth_rate', 'TB3MS', 'DFR',\n",
       "       'DFY', 'OIL_WTI', 'EUR_USD', 'CNY_USD', 'FTSE100', 'SPV'],\n",
       "      dtype='object')"
      ]
     },
     "execution_count": 18,
     "metadata": {},
     "output_type": "execute_result"
    }
   ],
   "source": [
    "df.columns"
   ]
  },
  {
   "cell_type": "code",
   "execution_count": 19,
   "metadata": {},
   "outputs": [
    {
     "name": "stdout",
     "output_type": "stream",
     "text": [
      "Variable: snp500_Adj Close is 1-order integrated (logarithmic difference)!\n",
      "Variable: CAPE is 1-order integrated (logarithmic difference)!\n",
      "Variable: TB10 is 1-order integrated (logarithmic difference)!\n",
      "Variable: CPI_growth_rate is 0-order integrated (logarithmic difference)!\n",
      "Variable: TB3MS is 0-order integrated (logarithmic difference)!\n",
      "Variable: DFR is 2-order integrated (linear difference)!\n",
      "Variable: DFY is 1-order integrated (logarithmic difference)!\n",
      "Variable: OIL_WTI is 1-order integrated (logarithmic difference)!\n",
      "Variable: EUR_USD is 1-order integrated (logarithmic difference)!\n",
      "Variable: CNY_USD is 1-order integrated (logarithmic difference)!\n",
      "Variable: FTSE100 is 1-order integrated (logarithmic difference)!\n",
      "Variable: SPV is 1-order integrated (logarithmic difference)!\n"
     ]
    },
    {
     "name": "stderr",
     "output_type": "stream",
     "text": [
      "/Users/MacBook/opt/anaconda3/lib/python3.7/site-packages/ipykernel_launcher.py:37: RuntimeWarning: invalid value encountered in log\n"
     ]
    }
   ],
   "source": [
    "# Parameters\n",
    "selected_cols = ['snp500_Adj Close', 'CAPE', 'TB10', 'CPI_growth_rate', 'TB3MS',\n",
    "       'DFR', 'DFY', 'OIL_WTI', 'EUR_USD', 'CNY_USD', 'FTSE100', 'SPV']\n",
    "stationarity_threshold = 0.01\n",
    "\n",
    "# Run stationarity checks\n",
    "df_stationer = diff_for_stationarity(df_input=df,cols=selected_cols,threshold=stationarity_threshold)"
   ]
  },
  {
   "cell_type": "code",
   "execution_count": 20,
   "metadata": {},
   "outputs": [
    {
     "name": "stdout",
     "output_type": "stream",
     "text": [
      "            snp500_Adj Close      CAPE      TB10  CPI_growth_rate  TB3MS  \\\n",
      "Date                                                                       \n",
      "2011-12-01               NaN       NaN       NaN        -0.246652   0.01   \n",
      "2012-01-01          0.042660  0.033073 -0.044137         0.440019   0.03   \n",
      "2012-02-01          0.039787  0.027437  0.095057         0.440297   0.09   \n",
      "2012-03-01          0.030851  0.011403  0.114739         0.759456   0.08   \n",
      "2012-04-01         -0.007526 -0.012320 -0.142997         0.302103   0.08   \n",
      "\n",
      "                 DFR       DFY   OIL_WTI   EUR_USD   CNY_USD   FTSE100  \\\n",
      "Date                                                                     \n",
      "2011-12-01       NaN       NaN       NaN       NaN       NaN       NaN   \n",
      "2012-01-01       NaN  0.044452  0.015460  0.009990 -0.002520  0.019425   \n",
      "2012-02-01 -0.077119 -0.067441  0.020891  0.018786  0.002520  0.032877   \n",
      "2012-03-01 -0.026545 -0.039531  0.037311  0.001350 -0.000630 -0.017698   \n",
      "2012-04-01  0.194543 -0.008097 -0.027372 -0.007824 -0.001891 -0.005336   \n",
      "\n",
      "                 SPV  \n",
      "Date                  \n",
      "2011-12-01       NaN  \n",
      "2012-01-01  0.009957  \n",
      "2012-02-01  0.048806  \n",
      "2012-03-01  0.111717  \n",
      "2012-04-01  0.044221  \n"
     ]
    }
   ],
   "source": [
    "# Inspect the dataset\n",
    "print(df_stationer.head())"
   ]
  },
  {
   "cell_type": "code",
   "execution_count": 21,
   "metadata": {},
   "outputs": [
    {
     "name": "stdout",
     "output_type": "stream",
     "text": [
      "            snp500_Adj Close      CAPE      TB10  CPI_growth_rate  TB3MS  \\\n",
      "Date                                                                       \n",
      "2012-02-01          0.039787  0.027437  0.095057         0.440297   0.09   \n",
      "2012-03-01          0.030851  0.011403  0.114739         0.759456   0.08   \n",
      "2012-04-01         -0.007526 -0.012320 -0.142997         0.302103   0.08   \n",
      "2012-05-01         -0.064699 -0.039331 -0.205197        -0.117348   0.09   \n",
      "2012-06-01          0.038793 -0.018800  0.049917        -0.146640   0.09   \n",
      "\n",
      "                 DFR       DFY   OIL_WTI   EUR_USD   CNY_USD   FTSE100  \\\n",
      "Date                                                                     \n",
      "2012-02-01 -0.077119 -0.067441  0.020891  0.018786  0.002520  0.032877   \n",
      "2012-03-01 -0.026545 -0.039531  0.037311  0.001350 -0.000630 -0.017698   \n",
      "2012-04-01  0.194543 -0.008097 -0.027372 -0.007824 -0.001891 -0.005336   \n",
      "2012-05-01  0.044004  0.032003 -0.088812 -0.068939 -0.009509 -0.075433   \n",
      "2012-06-01  0.008139  0.083067 -0.137579  0.024144  0.002545  0.045968   \n",
      "\n",
      "                 SPV  \n",
      "Date                  \n",
      "2012-02-01  0.048806  \n",
      "2012-03-01  0.111717  \n",
      "2012-04-01  0.044221  \n",
      "2012-05-01 -0.016896  \n",
      "2012-06-01  0.027873  \n",
      "(104, 12)\n"
     ]
    }
   ],
   "source": [
    "# Drop rows with NaN value\n",
    "df_stationer = df_stationer.dropna()\n",
    "\n",
    "print(df_stationer.head())\n",
    "\n",
    "print(df_stationer.shape)"
   ]
  },
  {
   "cell_type": "markdown",
   "metadata": {},
   "source": [
    "# Create training sample and test sample"
   ]
  },
  {
   "cell_type": "code",
   "execution_count": 22,
   "metadata": {},
   "outputs": [
    {
     "name": "stdout",
     "output_type": "stream",
     "text": [
      "(84, 12)\n",
      "(20, 12)\n"
     ]
    }
   ],
   "source": [
    "n = len(df_stationer)\n",
    "testsize = 0.2\n",
    "\n",
    "test_obs = int(n*testsize)\n",
    "df_train, df_test = df_stationer[0:-test_obs], df_stationer[-test_obs:]\n",
    "\n",
    "# Check size\n",
    "print(df_train.shape)  # (84, 12)\n",
    "print(df_test.shape)  # (20, 12)"
   ]
  },
  {
   "cell_type": "markdown",
   "metadata": {},
   "source": [
    "# Models"
   ]
  },
  {
   "cell_type": "markdown",
   "metadata": {},
   "source": [
    "## ARMA(p,q)"
   ]
  },
  {
   "cell_type": "code",
   "execution_count": 23,
   "metadata": {
    "scrolled": true
   },
   "outputs": [
    {
     "name": "stderr",
     "output_type": "stream",
     "text": [
      "/Users/MacBook/opt/anaconda3/lib/python3.7/site-packages/statsmodels/base/model.py:492: HessianInversionWarning: Inverting hessian failed, no bse or cov_params available\n",
      "  'available', HessianInversionWarning)\n",
      "/Users/MacBook/opt/anaconda3/lib/python3.7/site-packages/statsmodels/base/model.py:512: ConvergenceWarning: Maximum Likelihood optimization failed to converge. Check mle_retvals\n",
      "  \"Check mle_retvals\", ConvergenceWarning)\n"
     ]
    }
   ],
   "source": [
    "# Fit the model\n",
    "res = sm.tsa.arma_order_select_ic(df_train['snp500_Adj Close'], ic=[\"aic\", \"bic\",\"hqic\"], trend=\"nc\")"
   ]
  },
  {
   "cell_type": "code",
   "execution_count": 24,
   "metadata": {
    "scrolled": true
   },
   "outputs": [
    {
     "name": "stdout",
     "output_type": "stream",
     "text": [
      "{'aic':             0           1           2\n",
      "0         NaN -334.935483 -333.000862\n",
      "1 -335.024622 -333.354286 -331.464179\n",
      "2 -333.106809 -331.452662 -329.345250\n",
      "3 -331.594340 -329.642253 -328.185138\n",
      "4 -329.854121 -335.353087 -328.403034, 'bic':             0           1           2\n",
      "0         NaN -330.073849 -325.708411\n",
      "1 -330.162988 -326.061836 -321.740912\n",
      "2 -325.814359 -321.729394 -317.191166\n",
      "3 -321.871073 -317.488169 -313.600237\n",
      "4 -317.700037 -320.768186 -311.387316, 'hqic':             0           1           2\n",
      "0         NaN -332.981147 -330.069358\n",
      "1 -333.070286 -330.422783 -327.555508\n",
      "2 -330.175306 -327.543990 -324.459411\n",
      "3 -327.685669 -324.756413 -322.322131\n",
      "4 -324.968281 -329.490080 -321.562858, 'aic_min_order': (4, 1), 'bic_min_order': (1, 0), 'hqic_min_order': (1, 0)}\n"
     ]
    }
   ],
   "source": [
    "print(res) # AR(1) is the best"
   ]
  },
  {
   "cell_type": "code",
   "execution_count": 25,
   "metadata": {},
   "outputs": [
    {
     "name": "stderr",
     "output_type": "stream",
     "text": [
      "/Users/MacBook/opt/anaconda3/lib/python3.7/site-packages/statsmodels/tsa/base/tsa_model.py:165: ValueWarning: No frequency information was provided, so inferred frequency MS will be used.\n",
      "  % freq, ValueWarning)\n"
     ]
    }
   ],
   "source": [
    "# Parameters\n",
    "order = (1,0)\n",
    "\n",
    "# Initialise model\n",
    "arma_model = ARMA(df_train['snp500_Adj Close'],order)"
   ]
  },
  {
   "cell_type": "code",
   "execution_count": 26,
   "metadata": {
    "scrolled": true
   },
   "outputs": [
    {
     "data": {
      "text/html": [
       "<table class=\"simpletable\">\n",
       "<caption>ARMA Model Results</caption>\n",
       "<tr>\n",
       "  <th>Dep. Variable:</th> <td>snp500_Adj Close</td> <th>  No. Observations:  </th>    <td>84</td>   \n",
       "</tr>\n",
       "<tr>\n",
       "  <th>Model:</th>            <td>ARMA(1, 0)</td>    <th>  Log Likelihood     </th>  <td>173.708</td>\n",
       "</tr>\n",
       "<tr>\n",
       "  <th>Method:</th>             <td>css-mle</td>     <th>  S.D. of innovations</th>   <td>0.031</td> \n",
       "</tr>\n",
       "<tr>\n",
       "  <th>Date:</th>          <td>Fri, 04 Dec 2020</td> <th>  AIC                </th> <td>-341.416</td>\n",
       "</tr>\n",
       "<tr>\n",
       "  <th>Time:</th>              <td>16:11:43</td>     <th>  BIC                </th> <td>-334.123</td>\n",
       "</tr>\n",
       "<tr>\n",
       "  <th>Sample:</th>           <td>02-01-2012</td>    <th>  HQIC               </th> <td>-338.484</td>\n",
       "</tr>\n",
       "<tr>\n",
       "  <th></th>                 <td>- 01-01-2019</td>   <th>                     </th>     <td> </td>   \n",
       "</tr>\n",
       "</table>\n",
       "<table class=\"simpletable\">\n",
       "<tr>\n",
       "             <td></td>               <th>coef</th>     <th>std err</th>      <th>z</th>      <th>P>|z|</th>  <th>[0.025</th>    <th>0.975]</th>  \n",
       "</tr>\n",
       "<tr>\n",
       "  <th>const</th>                  <td>    0.0084</td> <td>    0.003</td> <td>    3.055</td> <td> 0.003</td> <td>    0.003</td> <td>    0.014</td>\n",
       "</tr>\n",
       "<tr>\n",
       "  <th>ar.L1.snp500_Adj Close</th> <td>   -0.2173</td> <td>    0.110</td> <td>   -1.982</td> <td> 0.051</td> <td>   -0.432</td> <td>   -0.002</td>\n",
       "</tr>\n",
       "</table>\n",
       "<table class=\"simpletable\">\n",
       "<caption>Roots</caption>\n",
       "<tr>\n",
       "    <td></td>   <th>            Real</th>  <th>         Imaginary</th> <th>         Modulus</th>  <th>        Frequency</th>\n",
       "</tr>\n",
       "<tr>\n",
       "  <th>AR.1</th> <td>          -4.6009</td> <td>          +0.0000j</td> <td>           4.6009</td> <td>           0.5000</td>\n",
       "</tr>\n",
       "</table>"
      ],
      "text/plain": [
       "<class 'statsmodels.iolib.summary.Summary'>\n",
       "\"\"\"\n",
       "                              ARMA Model Results                              \n",
       "==============================================================================\n",
       "Dep. Variable:       snp500_Adj Close   No. Observations:                   84\n",
       "Model:                     ARMA(1, 0)   Log Likelihood                 173.708\n",
       "Method:                       css-mle   S.D. of innovations              0.031\n",
       "Date:                Fri, 04 Dec 2020   AIC                           -341.416\n",
       "Time:                        16:11:43   BIC                           -334.123\n",
       "Sample:                    02-01-2012   HQIC                          -338.484\n",
       "                         - 01-01-2019                                         \n",
       "==========================================================================================\n",
       "                             coef    std err          z      P>|z|      [0.025      0.975]\n",
       "------------------------------------------------------------------------------------------\n",
       "const                      0.0084      0.003      3.055      0.003       0.003       0.014\n",
       "ar.L1.snp500_Adj Close    -0.2173      0.110     -1.982      0.051      -0.432      -0.002\n",
       "                                    Roots                                    \n",
       "=============================================================================\n",
       "                  Real          Imaginary           Modulus         Frequency\n",
       "-----------------------------------------------------------------------------\n",
       "AR.1           -4.6009           +0.0000j            4.6009            0.5000\n",
       "-----------------------------------------------------------------------------\n",
       "\"\"\""
      ]
     },
     "execution_count": 26,
     "metadata": {},
     "output_type": "execute_result"
    }
   ],
   "source": [
    "# Fit the model with the selected order\n",
    "arma_model_fitted = arma_model.fit()\n",
    "arma_model_fitted.summary()"
   ]
  },
  {
   "cell_type": "code",
   "execution_count": 27,
   "metadata": {},
   "outputs": [
    {
     "data": {
      "text/plain": [
       "-0.21734732492423364"
      ]
     },
     "execution_count": 27,
     "metadata": {},
     "output_type": "execute_result"
    }
   ],
   "source": [
    "arma_model_fitted.params[1]"
   ]
  },
  {
   "cell_type": "code",
   "execution_count": 28,
   "metadata": {},
   "outputs": [],
   "source": [
    "# Forecasting\n",
    "arma_preds = []\n",
    "\n",
    "\n",
    "for i in range(0,test_obs):\n",
    "    locat = -test_obs-1+i\n",
    "    \n",
    "    pred = arma_model_fitted.params[1]*df_stationer['snp500_Adj Close'].iloc[locat] + arma_model_fitted.params[0]\n",
    "    arma_preds.append(pred)"
   ]
  },
  {
   "cell_type": "markdown",
   "metadata": {},
   "source": [
    "## LASSO"
   ]
  },
  {
   "cell_type": "code",
   "execution_count": 29,
   "metadata": {
    "scrolled": true
   },
   "outputs": [],
   "source": [
    "Y_train = np.asarray(df_train['snp500_Adj Close'].iloc[1:])\n",
    "Y_test = np.asarray(df_test['snp500_Adj Close'])"
   ]
  },
  {
   "cell_type": "code",
   "execution_count": 30,
   "metadata": {},
   "outputs": [
    {
     "data": {
      "text/html": [
       "<div>\n",
       "<style scoped>\n",
       "    .dataframe tbody tr th:only-of-type {\n",
       "        vertical-align: middle;\n",
       "    }\n",
       "\n",
       "    .dataframe tbody tr th {\n",
       "        vertical-align: top;\n",
       "    }\n",
       "\n",
       "    .dataframe thead th {\n",
       "        text-align: right;\n",
       "    }\n",
       "</style>\n",
       "<table border=\"1\" class=\"dataframe\">\n",
       "  <thead>\n",
       "    <tr style=\"text-align: right;\">\n",
       "      <th></th>\n",
       "      <th>snp500_Adj Close</th>\n",
       "      <th>CAPE</th>\n",
       "      <th>TB10</th>\n",
       "      <th>CPI_growth_rate</th>\n",
       "      <th>TB3MS</th>\n",
       "      <th>DFR</th>\n",
       "      <th>DFY</th>\n",
       "      <th>OIL_WTI</th>\n",
       "      <th>EUR_USD</th>\n",
       "      <th>CNY_USD</th>\n",
       "      <th>FTSE100</th>\n",
       "      <th>SPV</th>\n",
       "    </tr>\n",
       "    <tr>\n",
       "      <th>Date</th>\n",
       "      <th></th>\n",
       "      <th></th>\n",
       "      <th></th>\n",
       "      <th></th>\n",
       "      <th></th>\n",
       "      <th></th>\n",
       "      <th></th>\n",
       "      <th></th>\n",
       "      <th></th>\n",
       "      <th></th>\n",
       "      <th></th>\n",
       "      <th></th>\n",
       "    </tr>\n",
       "  </thead>\n",
       "  <tbody>\n",
       "    <tr>\n",
       "      <td>2012-02-01</td>\n",
       "      <td>0.039787</td>\n",
       "      <td>0.027437</td>\n",
       "      <td>0.095057</td>\n",
       "      <td>0.440297</td>\n",
       "      <td>0.09</td>\n",
       "      <td>-0.077119</td>\n",
       "      <td>-0.067441</td>\n",
       "      <td>0.020891</td>\n",
       "      <td>0.018786</td>\n",
       "      <td>0.002520</td>\n",
       "      <td>0.032877</td>\n",
       "      <td>0.048806</td>\n",
       "    </tr>\n",
       "    <tr>\n",
       "      <td>2012-03-01</td>\n",
       "      <td>0.030851</td>\n",
       "      <td>0.011403</td>\n",
       "      <td>0.114739</td>\n",
       "      <td>0.759456</td>\n",
       "      <td>0.08</td>\n",
       "      <td>-0.026545</td>\n",
       "      <td>-0.039531</td>\n",
       "      <td>0.037311</td>\n",
       "      <td>0.001350</td>\n",
       "      <td>-0.000630</td>\n",
       "      <td>-0.017698</td>\n",
       "      <td>0.111717</td>\n",
       "    </tr>\n",
       "    <tr>\n",
       "      <td>2012-04-01</td>\n",
       "      <td>-0.007526</td>\n",
       "      <td>-0.012320</td>\n",
       "      <td>-0.142997</td>\n",
       "      <td>0.302103</td>\n",
       "      <td>0.08</td>\n",
       "      <td>0.194543</td>\n",
       "      <td>-0.008097</td>\n",
       "      <td>-0.027372</td>\n",
       "      <td>-0.007824</td>\n",
       "      <td>-0.001891</td>\n",
       "      <td>-0.005336</td>\n",
       "      <td>0.044221</td>\n",
       "    </tr>\n",
       "    <tr>\n",
       "      <td>2012-05-01</td>\n",
       "      <td>-0.064699</td>\n",
       "      <td>-0.039331</td>\n",
       "      <td>-0.205197</td>\n",
       "      <td>-0.117348</td>\n",
       "      <td>0.09</td>\n",
       "      <td>0.044004</td>\n",
       "      <td>0.032003</td>\n",
       "      <td>-0.088812</td>\n",
       "      <td>-0.068939</td>\n",
       "      <td>-0.009509</td>\n",
       "      <td>-0.075433</td>\n",
       "      <td>-0.016896</td>\n",
       "    </tr>\n",
       "    <tr>\n",
       "      <td>2012-06-01</td>\n",
       "      <td>0.038793</td>\n",
       "      <td>-0.018800</td>\n",
       "      <td>0.049917</td>\n",
       "      <td>-0.146640</td>\n",
       "      <td>0.09</td>\n",
       "      <td>0.008139</td>\n",
       "      <td>0.083067</td>\n",
       "      <td>-0.137579</td>\n",
       "      <td>0.024144</td>\n",
       "      <td>0.002545</td>\n",
       "      <td>0.045968</td>\n",
       "      <td>0.027873</td>\n",
       "    </tr>\n",
       "    <tr>\n",
       "      <td>...</td>\n",
       "      <td>...</td>\n",
       "      <td>...</td>\n",
       "      <td>...</td>\n",
       "      <td>...</td>\n",
       "      <td>...</td>\n",
       "      <td>...</td>\n",
       "      <td>...</td>\n",
       "      <td>...</td>\n",
       "      <td>...</td>\n",
       "      <td>...</td>\n",
       "      <td>...</td>\n",
       "      <td>...</td>\n",
       "    </tr>\n",
       "    <tr>\n",
       "      <td>2018-09-01</td>\n",
       "      <td>0.004285</td>\n",
       "      <td>0.007076</td>\n",
       "      <td>0.069226</td>\n",
       "      <td>0.116203</td>\n",
       "      <td>2.13</td>\n",
       "      <td>0.027942</td>\n",
       "      <td>0.011173</td>\n",
       "      <td>0.031800</td>\n",
       "      <td>0.000689</td>\n",
       "      <td>-0.004796</td>\n",
       "      <td>0.010413</td>\n",
       "      <td>0.019109</td>\n",
       "    </tr>\n",
       "    <tr>\n",
       "      <td>2018-10-01</td>\n",
       "      <td>-0.071929</td>\n",
       "      <td>-0.049649</td>\n",
       "      <td>0.027037</td>\n",
       "      <td>0.176676</td>\n",
       "      <td>2.25</td>\n",
       "      <td>0.031191</td>\n",
       "      <td>0.032790</td>\n",
       "      <td>0.008029</td>\n",
       "      <td>-0.025917</td>\n",
       "      <td>-0.015923</td>\n",
       "      <td>-0.052217</td>\n",
       "      <td>-0.092363</td>\n",
       "    </tr>\n",
       "    <tr>\n",
       "      <td>2018-11-01</td>\n",
       "      <td>0.017702</td>\n",
       "      <td>-0.027435</td>\n",
       "      <td>-0.050809</td>\n",
       "      <td>-0.334935</td>\n",
       "      <td>2.33</td>\n",
       "      <td>0.160110</td>\n",
       "      <td>0.072571</td>\n",
       "      <td>-0.223732</td>\n",
       "      <td>0.000442</td>\n",
       "      <td>0.002091</td>\n",
       "      <td>-0.020967</td>\n",
       "      <td>-0.120068</td>\n",
       "    </tr>\n",
       "    <tr>\n",
       "      <td>2018-12-01</td>\n",
       "      <td>-0.096265</td>\n",
       "      <td>-0.065334</td>\n",
       "      <td>-0.108223</td>\n",
       "      <td>-0.319396</td>\n",
       "      <td>2.37</td>\n",
       "      <td>0.000234</td>\n",
       "      <td>0.104360</td>\n",
       "      <td>-0.151090</td>\n",
       "      <td>0.013429</td>\n",
       "      <td>0.011769</td>\n",
       "      <td>-0.036785</td>\n",
       "      <td>0.219921</td>\n",
       "    </tr>\n",
       "    <tr>\n",
       "      <td>2019-01-01</td>\n",
       "      <td>0.075742</td>\n",
       "      <td>0.003176</td>\n",
       "      <td>-0.019929</td>\n",
       "      <td>0.190660</td>\n",
       "      <td>2.37</td>\n",
       "      <td>-0.088915</td>\n",
       "      <td>0.069593</td>\n",
       "      <td>0.054461</td>\n",
       "      <td>-0.002095</td>\n",
       "      <td>0.025817</td>\n",
       "      <td>0.035165</td>\n",
       "      <td>-0.025809</td>\n",
       "    </tr>\n",
       "  </tbody>\n",
       "</table>\n",
       "<p>84 rows × 12 columns</p>\n",
       "</div>"
      ],
      "text/plain": [
       "            snp500_Adj Close      CAPE      TB10  CPI_growth_rate  TB3MS  \\\n",
       "Date                                                                       \n",
       "2012-02-01          0.039787  0.027437  0.095057         0.440297   0.09   \n",
       "2012-03-01          0.030851  0.011403  0.114739         0.759456   0.08   \n",
       "2012-04-01         -0.007526 -0.012320 -0.142997         0.302103   0.08   \n",
       "2012-05-01         -0.064699 -0.039331 -0.205197        -0.117348   0.09   \n",
       "2012-06-01          0.038793 -0.018800  0.049917        -0.146640   0.09   \n",
       "...                      ...       ...       ...              ...    ...   \n",
       "2018-09-01          0.004285  0.007076  0.069226         0.116203   2.13   \n",
       "2018-10-01         -0.071929 -0.049649  0.027037         0.176676   2.25   \n",
       "2018-11-01          0.017702 -0.027435 -0.050809        -0.334935   2.33   \n",
       "2018-12-01         -0.096265 -0.065334 -0.108223        -0.319396   2.37   \n",
       "2019-01-01          0.075742  0.003176 -0.019929         0.190660   2.37   \n",
       "\n",
       "                 DFR       DFY   OIL_WTI   EUR_USD   CNY_USD   FTSE100  \\\n",
       "Date                                                                     \n",
       "2012-02-01 -0.077119 -0.067441  0.020891  0.018786  0.002520  0.032877   \n",
       "2012-03-01 -0.026545 -0.039531  0.037311  0.001350 -0.000630 -0.017698   \n",
       "2012-04-01  0.194543 -0.008097 -0.027372 -0.007824 -0.001891 -0.005336   \n",
       "2012-05-01  0.044004  0.032003 -0.088812 -0.068939 -0.009509 -0.075433   \n",
       "2012-06-01  0.008139  0.083067 -0.137579  0.024144  0.002545  0.045968   \n",
       "...              ...       ...       ...       ...       ...       ...   \n",
       "2018-09-01  0.027942  0.011173  0.031800  0.000689 -0.004796  0.010413   \n",
       "2018-10-01  0.031191  0.032790  0.008029 -0.025917 -0.015923 -0.052217   \n",
       "2018-11-01  0.160110  0.072571 -0.223732  0.000442  0.002091 -0.020967   \n",
       "2018-12-01  0.000234  0.104360 -0.151090  0.013429  0.011769 -0.036785   \n",
       "2019-01-01 -0.088915  0.069593  0.054461 -0.002095  0.025817  0.035165   \n",
       "\n",
       "                 SPV  \n",
       "Date                  \n",
       "2012-02-01  0.048806  \n",
       "2012-03-01  0.111717  \n",
       "2012-04-01  0.044221  \n",
       "2012-05-01 -0.016896  \n",
       "2012-06-01  0.027873  \n",
       "...              ...  \n",
       "2018-09-01  0.019109  \n",
       "2018-10-01 -0.092363  \n",
       "2018-11-01 -0.120068  \n",
       "2018-12-01  0.219921  \n",
       "2019-01-01 -0.025809  \n",
       "\n",
       "[84 rows x 12 columns]"
      ]
     },
     "execution_count": 30,
     "metadata": {},
     "output_type": "execute_result"
    }
   ],
   "source": [
    "df_train"
   ]
  },
  {
   "cell_type": "code",
   "execution_count": 31,
   "metadata": {},
   "outputs": [],
   "source": [
    "df_train_temp = df_train.shift(1)"
   ]
  },
  {
   "cell_type": "code",
   "execution_count": 32,
   "metadata": {},
   "outputs": [
    {
     "name": "stdout",
     "output_type": "stream",
     "text": [
      "            snp500_Adj Close      CAPE      TB10  CPI_growth_rate  TB3MS  \\\n",
      "Date                                                                       \n",
      "2012-03-01          0.039787  0.027437  0.095057         0.440297   0.09   \n",
      "2012-04-01          0.030851  0.011403  0.114739         0.759456   0.08   \n",
      "2012-05-01         -0.007526 -0.012320 -0.142997         0.302103   0.08   \n",
      "2012-06-01         -0.064699 -0.039331 -0.205197        -0.117348   0.09   \n",
      "2012-07-01          0.038793 -0.018800  0.049917        -0.146640   0.09   \n",
      "\n",
      "                 DFR       DFY   OIL_WTI   EUR_USD   CNY_USD   FTSE100  \\\n",
      "Date                                                                     \n",
      "2012-03-01 -0.077119 -0.067441  0.020891  0.018786  0.002520  0.032877   \n",
      "2012-04-01 -0.026545 -0.039531  0.037311  0.001350 -0.000630 -0.017698   \n",
      "2012-05-01  0.194543 -0.008097 -0.027372 -0.007824 -0.001891 -0.005336   \n",
      "2012-06-01  0.044004  0.032003 -0.088812 -0.068939 -0.009509 -0.075433   \n",
      "2012-07-01  0.008139  0.083067 -0.137579  0.024144  0.002545  0.045968   \n",
      "\n",
      "                 SPV  \n",
      "Date                  \n",
      "2012-03-01  0.048806  \n",
      "2012-04-01  0.111717  \n",
      "2012-05-01  0.044221  \n",
      "2012-06-01 -0.016896  \n",
      "2012-07-01  0.027873  \n"
     ]
    }
   ],
   "source": [
    "df_train_temp = df_train_temp.dropna()\n",
    "\n",
    "print(df_train_temp.head())"
   ]
  },
  {
   "cell_type": "code",
   "execution_count": 33,
   "metadata": {},
   "outputs": [
    {
     "name": "stdout",
     "output_type": "stream",
     "text": [
      "(83, 12)\n",
      "(20, 12)\n",
      "(83,)\n",
      "(20,)\n"
     ]
    }
   ],
   "source": [
    "X_train = np.asarray(df_train_temp)\n",
    "X_test = np.asarray(df_stationer.iloc[-len(Y_test)-1:-1,:])\n",
    "\n",
    "print(X_train.shape)\n",
    "print(X_test.shape)\n",
    "print(Y_train.shape)\n",
    "print(Y_test.shape)"
   ]
  },
  {
   "cell_type": "code",
   "execution_count": 34,
   "metadata": {
    "scrolled": true
   },
   "outputs": [
    {
     "name": "stdout",
     "output_type": "stream",
     "text": [
      "Fitting 5 folds for each of 15 candidates, totalling 75 fits\n"
     ]
    },
    {
     "name": "stderr",
     "output_type": "stream",
     "text": [
      "[Parallel(n_jobs=3)]: Using backend LokyBackend with 3 concurrent workers.\n",
      "[Parallel(n_jobs=3)]: Done  75 out of  75 | elapsed:    2.4s finished\n"
     ]
    },
    {
     "data": {
      "text/plain": [
       "GridSearchCV(cv=5, error_score='raise-deprecating',\n",
       "             estimator=Lasso(alpha=1.0, copy_X=True, fit_intercept=True,\n",
       "                             max_iter=1000, normalize=False, positive=False,\n",
       "                             precompute=False, random_state=None,\n",
       "                             selection='cyclic', tol=0.0001, warm_start=False),\n",
       "             iid='warn', n_jobs=3,\n",
       "             param_grid={'alpha': array([7.0e-06, 2.0e-05, 4.0e-05, 5.0e-05, 8.0e-05, 1.0e-04, 1.2e-04,\n",
       "       1.5e-04, 2.0e-04, 2.5e-04, 3.0e-04, 4.0e-04, 5.0e-04, 6.0e-04,\n",
       "       7.0e-04]),\n",
       "                         'fit_intercept': [False]},\n",
       "             pre_dispatch='2*n_jobs', refit=True, return_train_score=False,\n",
       "             scoring='neg_mean_squared_error', verbose=2)"
      ]
     },
     "execution_count": 34,
     "metadata": {},
     "output_type": "execute_result"
    }
   ],
   "source": [
    "lasso = Lasso()\n",
    "\n",
    "# Set parameters for gridsearch\n",
    "alphas = np.array([0.000007, 0.00002, 0.00004, 0.00005,0.00008,0.0001,0.00012, 0.00015,0.0002,0.00025,0.0003,\n",
    "                   0.0004,0.0005,0.0006,0.0007])\n",
    "\n",
    "lasso_parameters = {'alpha':alphas, 'fit_intercept':[False]}\n",
    "\n",
    "# Run gridsearch\n",
    "lasso_grid = GridSearchCV(lasso, lasso_parameters, n_jobs=3, \n",
    "                   cv=5,\n",
    "                   scoring='neg_mean_squared_error',\n",
    "                   verbose=2, refit=True)\n",
    "\n",
    "# Fit the model\n",
    "lasso_grid.fit(X_train, Y_train)"
   ]
  },
  {
   "cell_type": "code",
   "execution_count": 35,
   "metadata": {},
   "outputs": [
    {
     "name": "stdout",
     "output_type": "stream",
     "text": [
      "[-0.         -0.         -0.          0.00201505  0.00237282 -0.\n",
      " -0.          0.         -0.         -0.          0.          0.        ]\n",
      "0.0\n"
     ]
    }
   ],
   "source": [
    "print(lasso_grid.best_estimator_.coef_)\n",
    "print(lasso_grid.best_estimator_.intercept_)\n",
    "\n",
    "# TB3MS and CPI_growth_rate are significant"
   ]
  },
  {
   "cell_type": "code",
   "execution_count": 36,
   "metadata": {},
   "outputs": [
    {
     "data": {
      "text/plain": [
       "{'alpha': 0.0007, 'fit_intercept': False}"
      ]
     },
     "execution_count": 36,
     "metadata": {},
     "output_type": "execute_result"
    }
   ],
   "source": [
    "lasso_grid.best_params_"
   ]
  },
  {
   "cell_type": "code",
   "execution_count": 37,
   "metadata": {
    "scrolled": true
   },
   "outputs": [
    {
     "data": {
      "text/plain": [
       "Lasso(alpha=0.0007, copy_X=True, fit_intercept=False, max_iter=1000,\n",
       "      normalize=False, positive=False, precompute=False, random_state=None,\n",
       "      selection='cyclic', tol=0.0001, warm_start=False)"
      ]
     },
     "execution_count": 37,
     "metadata": {},
     "output_type": "execute_result"
    }
   ],
   "source": [
    "lasso_grid.best_estimator_"
   ]
  },
  {
   "cell_type": "code",
   "execution_count": 38,
   "metadata": {},
   "outputs": [],
   "source": [
    "# Predict with the final model for the validation set\n",
    "lasso_pred = lasso_grid.predict(X_test)"
   ]
  },
  {
   "cell_type": "code",
   "execution_count": 39,
   "metadata": {},
   "outputs": [
    {
     "data": {
      "text/plain": [
       "array([ 0.00600778,  0.00652282,  0.00683154,  0.00671429,  0.00600509,\n",
       "        0.00518915,  0.00531963,  0.00461679,  0.0046425 ,  0.00437584,\n",
       "        0.00354609,  0.00347082,  0.00438848,  0.00415894,  0.00024955,\n",
       "       -0.00101526,  0.0003124 ,  0.0014823 ,  0.00132773,  0.00087267])"
      ]
     },
     "execution_count": 39,
     "metadata": {},
     "output_type": "execute_result"
    }
   ],
   "source": [
    "lasso_pred"
   ]
  },
  {
   "cell_type": "markdown",
   "metadata": {},
   "source": [
    "## VAR"
   ]
  },
  {
   "cell_type": "code",
   "execution_count": 62,
   "metadata": {},
   "outputs": [
    {
     "name": "stderr",
     "output_type": "stream",
     "text": [
      "/Users/MacBook/opt/anaconda3/lib/python3.7/site-packages/statsmodels/tsa/base/tsa_model.py:165: ValueWarning: No frequency information was provided, so inferred frequency MS will be used.\n",
      "  % freq, ValueWarning)\n"
     ]
    }
   ],
   "source": [
    "# Initialise model\n",
    "var_model = VAR(df_train)"
   ]
  },
  {
   "cell_type": "code",
   "execution_count": 63,
   "metadata": {},
   "outputs": [
    {
     "data": {
      "text/html": [
       "<table class=\"simpletable\">\n",
       "<caption>VAR Order Selection (* highlights the minimums)</caption>\n",
       "<tr>\n",
       "  <td></td>      <th>AIC</th>         <th>BIC</th>         <th>FPE</th>        <th>HQIC</th>    \n",
       "</tr>\n",
       "<tr>\n",
       "  <th>0</th> <td>    -68.29</td>  <td>    -67.93</td>  <td> 2.198e-30</td>  <td>    -68.15</td> \n",
       "</tr>\n",
       "<tr>\n",
       "  <th>1</th> <td>    -74.26</td>  <td>    -69.58*</td> <td> 5.800e-33*</td> <td>    -72.39*</td>\n",
       "</tr>\n",
       "<tr>\n",
       "  <th>2</th> <td>    -73.80</td>  <td>    -64.80</td>  <td> 1.168e-32</td>  <td>    -70.19</td> \n",
       "</tr>\n",
       "<tr>\n",
       "  <th>3</th> <td>    -73.00</td>  <td>    -59.68</td>  <td> 5.135e-32</td>  <td>    -67.66</td> \n",
       "</tr>\n",
       "<tr>\n",
       "  <th>4</th> <td>    -74.00</td>  <td>    -56.36</td>  <td> 9.121e-32</td>  <td>    -66.93</td> \n",
       "</tr>\n",
       "<tr>\n",
       "  <th>5</th> <td>    -80.31*</td> <td>    -58.35</td>  <td> 5.825e-33</td>  <td>    -71.51</td> \n",
       "</tr>\n",
       "</table>"
      ],
      "text/plain": [
       "<class 'statsmodels.iolib.table.SimpleTable'>"
      ]
     },
     "execution_count": 63,
     "metadata": {},
     "output_type": "execute_result"
    }
   ],
   "source": [
    "# Parameters\n",
    "maxvarlags = 5\n",
    "\n",
    "# Model selection\n",
    "x = var_model.select_order(maxlags=maxvarlags)\n",
    "x.summary() # Order 1 seems to be the best"
   ]
  },
  {
   "cell_type": "code",
   "execution_count": 64,
   "metadata": {
    "scrolled": true
   },
   "outputs": [
    {
     "data": {
      "text/plain": [
       "  Summary of Regression Results   \n",
       "==================================\n",
       "Model:                         VAR\n",
       "Method:                        OLS\n",
       "Date:           Fri, 04, Dec, 2020\n",
       "Time:                     16:17:22\n",
       "--------------------------------------------------------------------\n",
       "No. of Equations:         12.0000    BIC:                   -69.7248\n",
       "Nobs:                     83.0000    HQIC:                  -72.4446\n",
       "Log likelihood:           1824.99    FPE:                5.72847e-33\n",
       "AIC:                     -74.2711    Det(Omega_mle):     9.99357e-34\n",
       "--------------------------------------------------------------------\n",
       "Results for equation snp500_Adj Close\n",
       "======================================================================================\n",
       "                         coefficient       std. error           t-stat            prob\n",
       "--------------------------------------------------------------------------------------\n",
       "const                       0.016476         0.004962            3.321           0.001\n",
       "L1.snp500_Adj Close        -0.348485         0.195648           -1.781           0.075\n",
       "L1.CAPE                    -0.035732         0.235573           -0.152           0.879\n",
       "L1.TB10                    -0.054099         0.042892           -1.261           0.207\n",
       "L1.CPI_growth_rate         -0.015641         0.014593           -1.072           0.284\n",
       "L1.TB3MS                   -0.004938         0.005187           -0.952           0.341\n",
       "L1.DFR                     -0.011668         0.034440           -0.339           0.735\n",
       "L1.DFY                     -0.013671         0.056640           -0.241           0.809\n",
       "L1.OIL_WTI                  0.149561         0.057581            2.597           0.009\n",
       "L1.EUR_USD                 -0.137636         0.167461           -0.822           0.411\n",
       "L1.CNY_USD                  0.123886         0.362530            0.342           0.733\n",
       "L1.FTSE100                  0.076048         0.158001            0.481           0.630\n",
       "L1.SPV                      0.042886         0.037325            1.149           0.251\n",
       "======================================================================================\n",
       "\n",
       "Results for equation CAPE\n",
       "======================================================================================\n",
       "                         coefficient       std. error           t-stat            prob\n",
       "--------------------------------------------------------------------------------------\n",
       "const                       0.006935         0.003542            1.958           0.050\n",
       "L1.snp500_Adj Close         0.338219         0.139654            2.422           0.015\n",
       "L1.CAPE                    -0.273279         0.168152           -1.625           0.104\n",
       "L1.TB10                    -0.057487         0.030616           -1.878           0.060\n",
       "L1.CPI_growth_rate         -0.018933         0.010417           -1.818           0.069\n",
       "L1.TB3MS                   -0.004733         0.003702           -1.278           0.201\n",
       "L1.DFR                     -0.000497         0.024583           -0.020           0.984\n",
       "L1.DFY                     -0.014401         0.040430           -0.356           0.722\n",
       "L1.OIL_WTI                  0.109504         0.041102            2.664           0.008\n",
       "L1.EUR_USD                 -0.143497         0.119534           -1.200           0.230\n",
       "L1.CNY_USD                  0.070644         0.258774            0.273           0.785\n",
       "L1.FTSE100                  0.038491         0.112781            0.341           0.733\n",
       "L1.SPV                      0.030866         0.026643            1.158           0.247\n",
       "======================================================================================\n",
       "\n",
       "Results for equation TB10\n",
       "======================================================================================\n",
       "                         coefficient       std. error           t-stat            prob\n",
       "--------------------------------------------------------------------------------------\n",
       "const                       0.013194         0.014534            0.908           0.364\n",
       "L1.snp500_Adj Close        -0.673373         0.573117           -1.175           0.240\n",
       "L1.CAPE                     0.801236         0.690071            1.161           0.246\n",
       "L1.TB10                    -0.030238         0.125645           -0.241           0.810\n",
       "L1.CPI_growth_rate         -0.062088         0.042749           -1.452           0.146\n",
       "L1.TB3MS                    0.008118         0.015193            0.534           0.593\n",
       "L1.DFR                      0.005918         0.100886            0.059           0.953\n",
       "L1.DFY                     -0.104954         0.165917           -0.633           0.527\n",
       "L1.OIL_WTI                  0.297966         0.168675            1.767           0.077\n",
       "L1.EUR_USD                 -0.574035         0.490550           -1.170           0.242\n",
       "L1.CNY_USD                  2.201961         1.061969            2.073           0.038\n",
       "L1.FTSE100                  0.541336         0.462837            1.170           0.242\n",
       "L1.SPV                     -0.113885         0.109338           -1.042           0.298\n",
       "======================================================================================\n",
       "\n",
       "Results for equation CPI_growth_rate\n",
       "======================================================================================\n",
       "                         coefficient       std. error           t-stat            prob\n",
       "--------------------------------------------------------------------------------------\n",
       "const                       0.082049         0.041078            1.997           0.046\n",
       "L1.snp500_Adj Close        -2.313307         1.619788           -1.428           0.153\n",
       "L1.CAPE                     0.718285         1.950332            0.368           0.713\n",
       "L1.TB10                    -0.011044         0.355107           -0.031           0.975\n",
       "L1.CPI_growth_rate          0.352606         0.120821            2.918           0.004\n",
       "L1.TB3MS                    0.025061         0.042940            0.584           0.559\n",
       "L1.DFR                     -0.090864         0.285133           -0.319           0.750\n",
       "L1.DFY                     -0.269488         0.468927           -0.575           0.565\n",
       "L1.OIL_WTI                  0.655916         0.476722            1.376           0.169\n",
       "L1.EUR_USD                  1.310034         1.386429            0.945           0.345\n",
       "L1.CNY_USD                  2.080782         3.001419            0.693           0.488\n",
       "L1.FTSE100                  3.283342         1.308105            2.510           0.012\n",
       "L1.SPV                      0.228250         0.309019            0.739           0.460\n",
       "======================================================================================\n",
       "\n",
       "Results for equation TB3MS\n",
       "======================================================================================\n",
       "                         coefficient       std. error           t-stat            prob\n",
       "--------------------------------------------------------------------------------------\n",
       "const                       0.001737         0.007280            0.239           0.811\n",
       "L1.snp500_Adj Close         0.085269         0.287048            0.297           0.766\n",
       "L1.CAPE                     0.333344         0.345625            0.964           0.335\n",
       "L1.TB10                     0.073562         0.062930            1.169           0.242\n",
       "L1.CPI_growth_rate          0.006948         0.021411            0.325           0.746\n",
       "L1.TB3MS                    1.043832         0.007609          137.175           0.000\n",
       "L1.DFR                      0.059095         0.050529            1.170           0.242\n",
       "L1.DFY                      0.029615         0.083100            0.356           0.722\n",
       "L1.OIL_WTI                 -0.005543         0.084482           -0.066           0.948\n",
       "L1.EUR_USD                 -0.484542         0.245694           -1.972           0.049\n",
       "L1.CNY_USD                  0.194354         0.531892            0.365           0.715\n",
       "L1.FTSE100                  0.177582         0.231814            0.766           0.444\n",
       "L1.SPV                      0.001797         0.054762            0.033           0.974\n",
       "======================================================================================\n",
       "\n",
       "Results for equation DFR\n",
       "======================================================================================\n",
       "                         coefficient       std. error           t-stat            prob\n",
       "--------------------------------------------------------------------------------------\n",
       "const                       0.001794         0.019163            0.094           0.925\n",
       "L1.snp500_Adj Close        -1.240358         0.755625           -1.642           0.101\n",
       "L1.CAPE                     0.147366         0.909822            0.162           0.871\n",
       "L1.TB10                     0.115943         0.165656            0.700           0.484\n",
       "L1.CPI_growth_rate          0.030513         0.056362            0.541           0.588\n",
       "L1.TB3MS                    0.009512         0.020031            0.475           0.635\n",
       "L1.DFR                     -0.262385         0.133013           -1.973           0.049\n",
       "L1.DFY                     -0.461574         0.218752           -2.110           0.035\n",
       "L1.OIL_WTI                  0.002961         0.222389            0.013           0.989\n",
       "L1.EUR_USD                 -0.092282         0.646764           -0.143           0.887\n",
       "L1.CNY_USD                  0.263287         1.400150            0.188           0.851\n",
       "L1.FTSE100                  0.228814         0.610226            0.375           0.708\n",
       "L1.SPV                     -0.035776         0.144156           -0.248           0.804\n",
       "======================================================================================\n",
       "\n",
       "Results for equation DFY\n",
       "======================================================================================\n",
       "                         coefficient       std. error           t-stat            prob\n",
       "--------------------------------------------------------------------------------------\n",
       "const                      -0.004118         0.008914           -0.462           0.644\n",
       "L1.snp500_Adj Close         0.157762         0.351492            0.449           0.654\n",
       "L1.CAPE                    -0.336457         0.423220           -0.795           0.427\n",
       "L1.TB10                     0.153519         0.077058            1.992           0.046\n",
       "L1.CPI_growth_rate         -0.018604         0.026218           -0.710           0.478\n",
       "L1.TB3MS                    0.010408         0.009318            1.117           0.264\n",
       "L1.DFR                      0.088383         0.061874            1.428           0.153\n",
       "L1.DFY                      0.431343         0.101757            4.239           0.000\n",
       "L1.OIL_WTI                 -0.026784         0.103448           -0.259           0.796\n",
       "L1.EUR_USD                 -0.599237         0.300854           -1.992           0.046\n",
       "L1.CNY_USD                  0.310087         0.651305            0.476           0.634\n",
       "L1.FTSE100                 -0.398534         0.283857           -1.404           0.160\n",
       "L1.SPV                      0.056278         0.067057            0.839           0.401\n",
       "======================================================================================\n",
       "\n",
       "Results for equation OIL_WTI\n",
       "======================================================================================\n",
       "                         coefficient       std. error           t-stat            prob\n",
       "--------------------------------------------------------------------------------------\n",
       "const                      -0.009094         0.013691           -0.664           0.507\n",
       "L1.snp500_Adj Close        -0.340577         0.539848           -0.631           0.528\n",
       "L1.CAPE                    -0.228562         0.650012           -0.352           0.725\n",
       "L1.TB10                     0.038396         0.118351            0.324           0.746\n",
       "L1.CPI_growth_rate          0.017491         0.040268            0.434           0.664\n",
       "L1.TB3MS                    0.007210         0.014311            0.504           0.614\n",
       "L1.DFR                     -0.018251         0.095030           -0.192           0.848\n",
       "L1.DFY                     -0.220536         0.156285           -1.411           0.158\n",
       "L1.OIL_WTI                  0.181386         0.158883            1.142           0.254\n",
       "L1.EUR_USD                  0.262732         0.462073            0.569           0.570\n",
       "L1.CNY_USD                  0.936208         1.000322            0.936           0.349\n",
       "L1.FTSE100                  0.272735         0.435969            0.626           0.532\n",
       "L1.SPV                      0.030122         0.102991            0.292           0.770\n",
       "======================================================================================\n",
       "\n",
       "Results for equation EUR_USD\n",
       "======================================================================================\n",
       "                         coefficient       std. error           t-stat            prob\n",
       "--------------------------------------------------------------------------------------\n",
       "const                      -0.002287         0.003715           -0.616           0.538\n",
       "L1.snp500_Adj Close        -0.070821         0.146490           -0.483           0.629\n",
       "L1.CAPE                     0.152763         0.176383            0.866           0.386\n",
       "L1.TB10                    -0.049196         0.032115           -1.532           0.126\n",
       "L1.CPI_growth_rate         -0.002802         0.010927           -0.256           0.798\n",
       "L1.TB3MS                    0.003476         0.003883            0.895           0.371\n",
       "L1.DFR                     -0.015943         0.025787           -0.618           0.536\n",
       "L1.DFY                     -0.087150         0.042409           -2.055           0.040\n",
       "L1.OIL_WTI                  0.004483         0.043114            0.104           0.917\n",
       "L1.EUR_USD                  0.012630         0.125385            0.101           0.920\n",
       "L1.CNY_USD                  0.166242         0.271441            0.612           0.540\n",
       "L1.FTSE100                 -0.200318         0.118302           -1.693           0.090\n",
       "L1.SPV                     -0.028934         0.027947           -1.035           0.301\n",
       "======================================================================================\n",
       "\n",
       "Results for equation CNY_USD\n",
       "======================================================================================\n",
       "                         coefficient       std. error           t-stat            prob\n",
       "--------------------------------------------------------------------------------------\n",
       "const                       0.001143         0.001587            0.721           0.471\n",
       "L1.snp500_Adj Close        -0.040186         0.062565           -0.642           0.521\n",
       "L1.CAPE                    -0.089620         0.075332           -1.190           0.234\n",
       "L1.TB10                     0.001869         0.013716            0.136           0.892\n",
       "L1.CPI_growth_rate         -0.007558         0.004667           -1.619           0.105\n",
       "L1.TB3MS                    0.000179         0.001659            0.108           0.914\n",
       "L1.DFR                     -0.006372         0.011013           -0.579           0.563\n",
       "L1.DFY                     -0.019087         0.018112           -1.054           0.292\n",
       "L1.OIL_WTI                  0.011800         0.018414            0.641           0.522\n",
       "L1.EUR_USD                  0.053650         0.053551            1.002           0.316\n",
       "L1.CNY_USD                  0.392966         0.115931            3.390           0.001\n",
       "L1.FTSE100                 -0.021194         0.050526           -0.419           0.675\n",
       "L1.SPV                      0.024106         0.011936            2.020           0.043\n",
       "======================================================================================\n",
       "\n",
       "Results for equation FTSE100\n",
       "======================================================================================\n",
       "                         coefficient       std. error           t-stat            prob\n",
       "--------------------------------------------------------------------------------------\n",
       "const                       0.009023         0.004871            1.853           0.064\n",
       "L1.snp500_Adj Close        -0.018377         0.192054           -0.096           0.924\n",
       "L1.CAPE                    -0.109487         0.231246           -0.473           0.636\n",
       "L1.TB10                    -0.056458         0.042104           -1.341           0.180\n",
       "L1.CPI_growth_rate         -0.014720         0.014325           -1.028           0.304\n",
       "L1.TB3MS                   -0.005759         0.005091           -1.131           0.258\n",
       "L1.DFR                     -0.006453         0.033807           -0.191           0.849\n",
       "L1.DFY                     -0.031558         0.055599           -0.568           0.570\n",
       "L1.OIL_WTI                  0.090918         0.056524            1.609           0.108\n",
       "L1.EUR_USD                 -0.000971         0.164385           -0.006           0.995\n",
       "L1.CNY_USD                  0.065350         0.355870            0.184           0.854\n",
       "L1.FTSE100                 -0.311278         0.155098           -2.007           0.045\n",
       "L1.SPV                     -0.008770         0.036640           -0.239           0.811\n",
       "======================================================================================\n",
       "\n",
       "Results for equation SPV\n",
       "======================================================================================\n",
       "                         coefficient       std. error           t-stat            prob\n",
       "--------------------------------------------------------------------------------------\n",
       "const                      -0.008372         0.014723           -0.569           0.570\n",
       "L1.snp500_Adj Close         0.540622         0.580535            0.931           0.352\n",
       "L1.CAPE                     0.589972         0.699003            0.844           0.399\n",
       "L1.TB10                    -0.129042         0.127271           -1.014           0.311\n",
       "L1.CPI_growth_rate          0.028556         0.043302            0.659           0.510\n",
       "L1.TB3MS                    0.000516         0.015390            0.033           0.973\n",
       "L1.DFR                      0.100588         0.102192            0.984           0.325\n",
       "L1.DFY                      0.140063         0.168064            0.833           0.405\n",
       "L1.OIL_WTI                 -0.235968         0.170858           -1.381           0.167\n",
       "L1.EUR_USD                  0.373795         0.496899            0.752           0.452\n",
       "L1.CNY_USD                 -1.357686         1.075715           -1.262           0.207\n",
       "L1.FTSE100                 -0.019830         0.468827           -0.042           0.966\n",
       "L1.SPV                      0.316682         0.110753            2.859           0.004\n",
       "======================================================================================\n",
       "\n",
       "Correlation matrix of residuals\n",
       "                    snp500_Adj Close      CAPE      TB10  CPI_growth_rate     TB3MS       DFR       DFY   OIL_WTI   EUR_USD   CNY_USD   FTSE100       SPV\n",
       "snp500_Adj Close            1.000000  0.826896  0.286924         0.089019 -0.078166 -0.439782 -0.125222  0.375156  0.262134  0.293720  0.644379  0.166132\n",
       "CAPE                        0.826896  1.000000  0.315541         0.014286  0.006539 -0.568817 -0.099165  0.415550  0.277032  0.256045  0.576928  0.067698\n",
       "TB10                        0.286924  0.315541  1.000000         0.176873  0.112768 -0.333743 -0.012500  0.326060  0.207679 -0.095886  0.054591  0.159495\n",
       "CPI_growth_rate             0.089019  0.014286  0.176873         1.000000 -0.218112 -0.126813 -0.096255  0.499217  0.137196  0.081662  0.088316  0.141746\n",
       "TB3MS                      -0.078166  0.006539  0.112768        -0.218112  1.000000  0.105232 -0.032848 -0.193188  0.018584 -0.164482 -0.079906  0.107352\n",
       "DFR                        -0.439782 -0.568817 -0.333743        -0.126813  0.105232  1.000000  0.188443 -0.421743 -0.246025 -0.240231 -0.351428 -0.075336\n",
       "DFY                        -0.125222 -0.099165 -0.012500        -0.096255 -0.032848  0.188443  1.000000 -0.230490 -0.061014 -0.047688 -0.250770 -0.140858\n",
       "OIL_WTI                     0.375156  0.415550  0.326060         0.499217 -0.193188 -0.421743 -0.230490  1.000000  0.280390  0.112017  0.376603  0.131264\n",
       "EUR_USD                     0.262134  0.277032  0.207679         0.137196  0.018584 -0.246025 -0.061014  0.280390  1.000000  0.348194  0.112586  0.283161\n",
       "CNY_USD                     0.293720  0.256045 -0.095886         0.081662 -0.164482 -0.240231 -0.047688  0.112017  0.348194  1.000000  0.127054  0.146752\n",
       "FTSE100                     0.644379  0.576928  0.054591         0.088316 -0.079906 -0.351428 -0.250770  0.376603  0.112586  0.127054  1.000000  0.096048\n",
       "SPV                         0.166132  0.067698  0.159495         0.141746  0.107352 -0.075336 -0.140858  0.131264  0.283161  0.146752  0.096048  1.000000\n",
       "\n"
      ]
     },
     "execution_count": 64,
     "metadata": {},
     "output_type": "execute_result"
    }
   ],
   "source": [
    "# Fit the model with the selected order\n",
    "model_fitted = var_model.fit(1)\n",
    "model_fitted.summary()"
   ]
  },
  {
   "cell_type": "code",
   "execution_count": 65,
   "metadata": {},
   "outputs": [
    {
     "name": "stdout",
     "output_type": "stream",
     "text": [
      "snp500_Adj Close : 2.17\n",
      "CAPE : 2.2\n",
      "TB10 : 1.93\n",
      "CPI_growth_rate : 1.59\n",
      "TB3MS : 1.43\n",
      "DFR : 2.15\n",
      "DFY : 2.04\n",
      "OIL_WTI : 1.99\n",
      "EUR_USD : 1.88\n",
      "CNY_USD : 1.92\n",
      "FTSE100 : 2.0\n",
      "SPV : 1.85\n"
     ]
    }
   ],
   "source": [
    "# DW-test for serial autocorrelation\n",
    "out = durbin_watson(model_fitted.resid)\n",
    "\n",
    "for col, val in zip(df_stationer.columns, out):\n",
    "    print(col, ':', round(val, 2))\n",
    "    \n",
    "# They are close to 2 so it's fine"
   ]
  },
  {
   "cell_type": "code",
   "execution_count": 66,
   "metadata": {},
   "outputs": [
    {
     "name": "stdout",
     "output_type": "stream",
     "text": [
      "1\n"
     ]
    },
    {
     "data": {
      "text/plain": [
       "array([[ 7.57421520e-02,  3.17628642e-03, -1.99292176e-02,\n",
       "         1.90659667e-01,  2.37000000e+00, -8.89147870e-02,\n",
       "         6.95932918e-02,  5.44605339e-02, -2.09460715e-03,\n",
       "         2.58166512e-02,  3.51645786e-02, -2.58088421e-02]])"
      ]
     },
     "execution_count": 66,
     "metadata": {},
     "output_type": "execute_result"
    }
   ],
   "source": [
    "# Forecast with the model\n",
    "# Get the lag order\n",
    "lag_order = model_fitted.k_ar\n",
    "print(lag_order)  #> 4\n",
    "\n",
    "# Input data for forecasting\n",
    "forecast_input = df_train.values[-lag_order:]\n",
    "forecast_input"
   ]
  },
  {
   "cell_type": "code",
   "execution_count": 67,
   "metadata": {},
   "outputs": [],
   "source": [
    "# Parameters\n",
    "forecast_horizon = 1\n",
    "target_name = 'snp500_Adj Close'\n",
    "target_loc = list(df.columns).index(target_name)\n",
    "\n",
    "# Forecasting\n",
    "y_true = df_test[target_name].iloc[forecast_horizon-1:]\n",
    "y_preds = []\n",
    "counter = 0\n",
    "\n",
    "for i in range(forecast_horizon-1,test_obs):\n",
    "    \n",
    "    #print(\"Round: {}\".format(i))\n",
    "    \n",
    "    if counter == 0 :\n",
    "        \n",
    "        forecast_input = df_train.iloc[len(df_train)-(lag_order-counter):,:]\n",
    "        \n",
    "        # Convert it to numpy array\n",
    "        forecast_input = forecast_input.values\n",
    "        \n",
    "        #print(forecast_input)\n",
    "        \n",
    "    elif counter < lag_order:\n",
    "        input_part1 = df_train.iloc[len(df_train)-(lag_order-counter):,:]\n",
    "        \n",
    "        input_part2 = df_test.iloc[:counter,:]\n",
    "        \n",
    "        forecast_input = pd.concat([input_part1,input_part2], axis=0)\n",
    "        \n",
    "        # Convert it to numpy array\n",
    "        forecast_input = forecast_input.values\n",
    "        \n",
    "        #print(forecast_input)\n",
    "        \n",
    "        \n",
    "    else:\n",
    "        forecast_input = df_test.values[(counter-lag_order):counter]\n",
    "        \n",
    "        #print(forecast_input)\n",
    "    \n",
    "    \n",
    "    \n",
    "    #print(forecast_input)\n",
    "        \n",
    "    # Forecast step\n",
    "    fc = model_fitted.forecast(y=forecast_input, steps=forecast_horizon)\n",
    "    \n",
    "    # Find the target value\n",
    "    pred = fc[forecast_horizon-1,target_loc]\n",
    "    #print(pred)\n",
    "    y_preds.append(pred)\n",
    "    \n",
    "    # Increment counter\n",
    "    counter += 1"
   ]
  },
  {
   "cell_type": "code",
   "execution_count": 68,
   "metadata": {},
   "outputs": [
    {
     "data": {
      "image/png": "[encoded data removed]",
      "text/plain": [
       "<Figure size 432x288 with 1 Axes>"
      ]
     },
     "metadata": {},
     "output_type": "display_data"
    }
   ],
   "source": [
    "plt.scatter(y_true,y_preds)\n",
    "plt.show()"
   ]
  },
  {
   "cell_type": "code",
   "execution_count": 69,
   "metadata": {},
   "outputs": [],
   "source": [
    "# Transform predicted S&P 500 to the original series\n",
    "nt = len(y_preds)\n",
    "true_vals = list(df['snp500_Adj Close'].iloc[-nt-forecast_horizon:])\n",
    "\n",
    "y_preds_transformed = [log_transform_inverse(t=true_vals[i],x=y_preds[i]) for i in range(0,nt)]\n"
   ]
  },
  {
   "cell_type": "code",
   "execution_count": 70,
   "metadata": {},
   "outputs": [],
   "source": [
    "# ARMA\n",
    "arma_preds_transformed = [log_transform_inverse(t=true_vals[i],x=arma_preds[i]) for i in range(0,nt)]"
   ]
  },
  {
   "cell_type": "code",
   "execution_count": 71,
   "metadata": {},
   "outputs": [],
   "source": [
    "# LASSO \n",
    "lasso_pred_transformed = [log_transform_inverse(t=true_vals[i],x=lasso_pred[i]) for i in range(0,nt)]"
   ]
  },
  {
   "cell_type": "code",
   "execution_count": 72,
   "metadata": {},
   "outputs": [],
   "source": [
    "# Use historical average prediction as baseline\n",
    "window_size = 12\n",
    "\n",
    "y_baseline_pred = [np.nanmean(df['snp500_Adj Close'].iloc[-(nt+window_size-i):-(nt-i)]) for i in range(0,nt)]"
   ]
  },
  {
   "cell_type": "code",
   "execution_count": 74,
   "metadata": {},
   "outputs": [
    {
     "data": {
      "image/png": "[encoded data removed]",
      "text/plain": [
       "<Figure size 432x288 with 1 Axes>"
      ]
     },
     "metadata": {},
     "output_type": "display_data"
    }
   ],
   "source": [
    "# ONLY WORKS WITH LAG 1!!\n",
    "\n",
    "df_test_for_viz = copy.deepcopy(df_test)\n",
    "\n",
    "df_test_for_viz['VAR'] = y_preds_transformed\n",
    "df_test_for_viz['HIST_AVG'] = y_baseline_pred\n",
    "df_test_for_viz['ACTUAL'] = true_vals[forecast_horizon:]\n",
    "df_test_for_viz['ARMA'] = arma_preds_transformed\n",
    "df_test_for_viz['LASSO'] = lasso_pred_transformed\n",
    "\n",
    "plt.plot(df_test_for_viz['ACTUAL'],label=\"Actual\")\n",
    "plt.plot(df_test_for_viz['HIST_AVG'],label=\"Rolling average prediction\")\n",
    "plt.plot(df_test_for_viz['VAR'],label=\"VAR prediction\")\n",
    "plt.plot(df_test_for_viz['ARMA'],label=\"AR(1) prediction\")\n",
    "plt.plot(df_test_for_viz['LASSO'],label=\"Lasso prediction\")\n",
    "\n",
    "plt.tick_params(axis='both', which='major', labelsize=axis_label_size)\n",
    "plt.xticks(rotation=75) \n",
    "plt.ylabel(\"S&P 500 index\", fontsize=axis_title_size)\n",
    "plt.xlabel(\"Date\", fontsize=axis_title_size)\n",
    "\n",
    "\n",
    "\n",
    "plt.legend(loc='upper left',fontsize=legend_fontsize)\n",
    "plt.savefig('../Figures/Model_fit_comparison.pdf',\n",
    "bbox_inches='tight',dpi=save_dpi)\n",
    "plt.show()"
   ]
  },
  {
   "cell_type": "code",
   "execution_count": 71,
   "metadata": {},
   "outputs": [
    {
     "data": {
      "image/png": "[encoded data removed]",
      "text/plain": [
       "<Figure size 432x288 with 1 Axes>"
      ]
     },
     "metadata": {},
     "output_type": "display_data"
    }
   ],
   "source": [
    "plt.plot(true_vals[forecast_horizon:],label=\"Actual\",marker=\"s\")\n",
    "plt.plot(y_baseline_pred,label=\"Historical average\",marker=\"s\")\n",
    "plt.plot(y_preds_transformed,label=\"Predicted\",marker=\"s\")\n",
    "plt.legend(loc='upper left')\n",
    "plt.show()"
   ]
  },
  {
   "cell_type": "code",
   "execution_count": 75,
   "metadata": {},
   "outputs": [
    {
     "name": "stdout",
     "output_type": "stream",
     "text": [
      "VAR R^2: 0.19208473976454865\n",
      "VAR MSE: 36779.52301476813\n",
      "Historical average R^2: -0.15188675212997205\n",
      "Historical average MSE: 52438.47640410221\n",
      "AR(1) R^2: 0.36211192461730857\n",
      "AR(1) MSE: 29039.20782799241\n",
      "Lasso R^2: 0.37805811531886724\n",
      "Lasso MSE: 28313.27366537375\n"
     ]
    }
   ],
   "source": [
    "# Evaluation\n",
    "var_r2 = r2_score(true_vals[forecast_horizon:], y_preds_transformed)\n",
    "var_mse = mean_squared_error(true_vals[forecast_horizon:], y_preds_transformed)\n",
    "print(\"VAR R^2: {}\".format(var_r2))\n",
    "print(\"VAR MSE: {}\".format(var_mse))\n",
    "\n",
    "baseline_hist_avg_r2 = r2_score(true_vals[forecast_horizon:], y_baseline_pred)\n",
    "baseline_hist_avg_mse = mean_squared_error(true_vals[forecast_horizon:], y_baseline_pred)\n",
    "print(\"Historical average R^2: {}\".format(baseline_hist_avg_r2))\n",
    "print(\"Historical average MSE: {}\".format(baseline_hist_avg_mse))\n",
    "\n",
    "arma_r2 = r2_score(true_vals[forecast_horizon:], arma_preds_transformed)\n",
    "arma_mse = mean_squared_error(true_vals[forecast_horizon:], arma_preds_transformed)\n",
    "print(\"AR(1) R^2: {}\".format(arma_r2))\n",
    "print(\"AR(1) MSE: {}\".format(arma_mse))\n",
    "\n",
    "lasso_r2 = r2_score(true_vals[forecast_horizon:], lasso_pred_transformed)\n",
    "lasso_mse = mean_squared_error(true_vals[forecast_horizon:], lasso_pred_transformed)\n",
    "print(\"Lasso R^2: {}\".format(lasso_r2))\n",
    "print(\"Lasso MSE: {}\".format(lasso_mse))"
   ]
  },
  {
   "cell_type": "markdown",
   "metadata": {},
   "source": [
    "## PCA"
   ]
  },
  {
   "cell_type": "code",
   "execution_count": null,
   "metadata": {},
   "outputs": [],
   "source": []
  },
  {
   "cell_type": "markdown",
   "metadata": {},
   "source": [
    "## Horizon-effects"
   ]
  },
  {
   "cell_type": "code",
   "execution_count": 76,
   "metadata": {},
   "outputs": [],
   "source": [
    "var_mses = []\n",
    "avg_mses = []\n",
    "forecast_horizons = np.arange(1,6,1)\n",
    "\n",
    "\n",
    "\n",
    "for forecast_horizon in forecast_horizons:\n",
    "    target_name = 'snp500_Adj Close'\n",
    "    target_loc = list(df.columns).index(target_name)\n",
    "\n",
    "    # Forecasting\n",
    "    y_true = df_test[target_name].iloc[forecast_horizon-1:]\n",
    "    y_preds = []\n",
    "    counter = 0\n",
    "\n",
    "    for i in range(forecast_horizon-1,test_obs):\n",
    "\n",
    "        #print(\"Round: {}\".format(i))\n",
    "\n",
    "        if counter == 0 :\n",
    "\n",
    "            forecast_input = df_train.iloc[len(df_train)-(lag_order-counter):,:]\n",
    "\n",
    "            # Convert it to numpy array\n",
    "            forecast_input = forecast_input.values\n",
    "\n",
    "            #print(forecast_input)\n",
    "\n",
    "        elif counter < lag_order:\n",
    "            input_part1 = df_train.iloc[len(df_train)-(lag_order-counter):,:]\n",
    "\n",
    "            input_part2 = df_test.iloc[:counter,:]\n",
    "\n",
    "            forecast_input = pd.concat([input_part1,input_part2], axis=0)\n",
    "\n",
    "            # Convert it to numpy array\n",
    "            forecast_input = forecast_input.values\n",
    "\n",
    "            #print(forecast_input)\n",
    "\n",
    "\n",
    "        else:\n",
    "            forecast_input = df_test.values[(counter-lag_order):counter]\n",
    "\n",
    "            #print(forecast_input)\n",
    "\n",
    "\n",
    "\n",
    "        #print(forecast_input)\n",
    "\n",
    "        # Forecast step\n",
    "        fc = model_fitted.forecast(y=forecast_input, steps=forecast_horizon)\n",
    "\n",
    "        # Find the target value\n",
    "        pred = fc[forecast_horizon-1,target_loc]\n",
    "        #print(pred)\n",
    "        y_preds.append(pred)\n",
    "\n",
    "        # Increment counter\n",
    "        counter += 1\n",
    "\n",
    "    # Transform predicted S&P 500 to the original series\n",
    "    nt = len(y_preds)\n",
    "    true_vals = list(df['snp500_Adj Close'].iloc[-nt-forecast_horizon:])\n",
    "\n",
    "    y_preds_transformed = [log_transform_inverse(t=true_vals[i],x=y_preds[i]) for i in range(0,nt)]\n",
    "\n",
    "    # Use historical average prediction as baseline\n",
    "    window_size = 12\n",
    "\n",
    "    y_baseline_pred = [np.nanmean(df['snp500_Adj Close'].iloc[-(nt+window_size-i):-(nt-i)]) for i in range(0,nt)]\n",
    "\n",
    "    var_mse = mean_squared_error(true_vals[forecast_horizon:], y_preds_transformed)\n",
    "    var_mses.append(var_mse)\n",
    "\n",
    "    baseline_hist_avg_mse = mean_squared_error(true_vals[forecast_horizon:], y_baseline_pred)\n",
    "    avg_mses.append(baseline_hist_avg_mse)"
   ]
  },
  {
   "cell_type": "code",
   "execution_count": 77,
   "metadata": {},
   "outputs": [
    {
     "data": {
      "image/png": "[encoded data removed]",
      "text/plain": [
       "<Figure size 432x288 with 1 Axes>"
      ]
     },
     "metadata": {},
     "output_type": "display_data"
    }
   ],
   "source": [
    "plt.plot(forecast_horizons,avg_mses,label=\"Historical average\",marker=\"s\")\n",
    "plt.plot(forecast_horizons,var_mses,label=\"VAR\",marker=\"s\")\n",
    "plt.ylabel(\"MSE\")\n",
    "plt.xlabel(\"Forecast horizon (in months)\")\n",
    "plt.legend(loc='upper left',fontsize=legend_fontsize)\n",
    "plt.tick_params(axis='both', which='major', labelsize=axis_label_size)\n",
    "plt.ylabel(\"MSE\", fontsize=axis_title_size)\n",
    "plt.xlabel(\"Forecast horizon\", fontsize=axis_title_size)\n",
    "plt.savefig('../Figures/horizon_effects.pdf',\n",
    "bbox_inches='tight',dpi=save_dpi)\n",
    "plt.show()"
   ]
  },
  {
   "cell_type": "markdown",
   "metadata": {},
   "source": [
    "# Support"
   ]
  },
  {
   "cell_type": "code",
   "execution_count": 12,
   "metadata": {},
   "outputs": [
    {
     "name": "stdout",
     "output_type": "stream",
     "text": [
      "ADF = -0.10605268883540019\n",
      "p-value = 0.9488323151711808\n"
     ]
    }
   ],
   "source": [
    "\n",
    "adf_test = adfuller(list(df['snp500_Adj Close']))\n",
    "\n",
    "print (\"ADF = \" + str(adf_test[0]))\n",
    "print (\"p-value = \" +str(adf_test[1]))\n",
    "\n",
    "# Not stationary!!"
   ]
  },
  {
   "cell_type": "code",
   "execution_count": 14,
   "metadata": {},
   "outputs": [
    {
     "name": "stdout",
     "output_type": "stream",
     "text": [
      "ADF = -7.376640172254899\n",
      "p-value = 8.687528002588852e-11\n"
     ]
    }
   ],
   "source": [
    "# Let's check after transformation\n",
    "log_return = [np.log(df['snp500_Adj Close'].iloc[i]/df['snp500_Adj Close'].iloc[i-1])\\\n",
    "              for i in range(1,len(df['snp500_Adj Close']))]\n",
    "\n",
    "adf_test = adfuller(log_return)\n",
    "\n",
    "print (\"ADF = \" + str(adf_test[0]))\n",
    "print (\"p-value = \" +str(adf_test[1]))\n",
    "\n",
    "# That is already stationary!"
   ]
  },
  {
   "cell_type": "code",
   "execution_count": null,
   "metadata": {},
   "outputs": [],
   "source": []
  },
  {
   "cell_type": "code",
   "execution_count": 50,
   "metadata": {
    "scrolled": true
   },
   "outputs": [
    {
     "data": {
      "text/plain": [
       "3.2620000000000005"
      ]
     },
     "execution_count": 50,
     "metadata": {},
     "output_type": "execute_result"
    }
   ],
   "source": [
    "df.DFR.loc[12]"
   ]
  },
  {
   "cell_type": "code",
   "execution_count": 51,
   "metadata": {
    "scrolled": true
   },
   "outputs": [
    {
     "data": {
      "text/plain": [
       "[1, 2]"
      ]
     },
     "execution_count": 51,
     "metadata": {},
     "output_type": "execute_result"
    }
   ],
   "source": [
    "[]+[1,2]"
   ]
  },
  {
   "cell_type": "code",
   "execution_count": 52,
   "metadata": {},
   "outputs": [
    {
     "data": {
      "text/plain": [
       "[]"
      ]
     },
     "execution_count": 52,
     "metadata": {},
     "output_type": "execute_result"
    }
   ],
   "source": [
    "[None]*0"
   ]
  },
  {
   "cell_type": "code",
   "execution_count": 53,
   "metadata": {},
   "outputs": [
    {
     "data": {
      "text/plain": [
       "3.559"
      ]
     },
     "execution_count": 53,
     "metadata": {},
     "output_type": "execute_result"
    }
   ],
   "source": [
    "np.max(df.DFR)"
   ]
  }
 ],
 "metadata": {
  "kernelspec": {
   "display_name": "Python 3",
   "language": "python",
   "name": "python3"
  },
  "language_info": {
   "codemirror_mode": {
    "name": "ipython",
    "version": 3
   },
   "file_extension": ".py",
   "mimetype": "text/x-python",
   "name": "python",
   "nbconvert_exporter": "python",
   "pygments_lexer": "ipython3",
   "version": "3.7.4"
  },
  "toc": {
   "base_numbering": 1,
   "nav_menu": {},
   "number_sections": true,
   "sideBar": true,
   "skip_h1_title": false,
   "title_cell": "Table of Contents",
   "title_sidebar": "Contents",
   "toc_cell": false,
   "toc_position": {},
   "toc_section_display": true,
   "toc_window_display": true
  }
 },
 "nbformat": 4,
 "nbformat_minor": 2
}
